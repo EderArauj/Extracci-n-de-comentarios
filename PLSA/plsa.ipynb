{
  "nbformat": 4,
  "nbformat_minor": 0,
  "metadata": {
    "colab": {
      "name": "plsa.ipynb",
      "provenance": [],
      "collapsed_sections": []
    },
    "kernelspec": {
      "name": "python3",
      "display_name": "Python 3"
    },
    "language_info": {
      "name": "python"
    }
  },
  "cells": [
    {
      "cell_type": "code",
      "metadata": {
        "colab": {
          "base_uri": "https://localhost:8080/"
        },
        "id": "qwA52eHmpHpH",
        "outputId": "bda8837e-e96e-4f7d-a8bc-22ac7b0d23b6"
      },
      "source": [
        "import requests\n",
        "from bs4 import BeautifulSoup\n",
        "import csv\n",
        "import re\n",
        "import nltk\n",
        "import matplotlib.pyplot as plt\n",
        "import random\n",
        "from nltk.stem import SnowballStemmer\n",
        "from nltk.tokenize import word_tokenize\n",
        "from nltk.corpus import stopwords \n",
        "from collections import Counter, defaultdict\n",
        "\n",
        "nltk.download(\"stopwords\")\n",
        "nltk.download('punkt')"
      ],
      "execution_count": 2,
      "outputs": [
        {
          "output_type": "stream",
          "text": [
            "[nltk_data] Downloading package stopwords to /root/nltk_data...\n",
            "[nltk_data]   Package stopwords is already up-to-date!\n",
            "[nltk_data] Downloading package punkt to /root/nltk_data...\n",
            "[nltk_data]   Package punkt is already up-to-date!\n"
          ],
          "name": "stdout"
        },
        {
          "output_type": "execute_result",
          "data": {
            "text/plain": [
              "True"
            ]
          },
          "metadata": {
            "tags": []
          },
          "execution_count": 2
        }
      ]
    },
    {
      "cell_type": "code",
      "metadata": {
        "id": "m90ODL71paAH"
      },
      "source": [
        "sw = stopwords.words(\"spanish\") # Lista de stopwords\n",
        "ss = SnowballStemmer(\"spanish\") # Stemmer\n",
        "\n",
        "# Url del la primera página de los comentaris del hotel\n",
        "url = \"https://www.tripadvisor.com.mx/Hotel_Review-g292027-d674247-Reviews-Tranquility_Bay_Beach_Retreat-Trujillo_Colon_Department.html#REVIEWS\"\n",
        "\n",
        "def recolectar_comentarios(url, paginas=2):\n",
        "  \"\"\"Recolecta los comentarios(documentos) de tripadvisor y los guarda en una lista\"\"\"\n",
        "  comentarios = []\n",
        "\n",
        "  for i in range(paginas): \n",
        "      print(f\"Consiguiendo los comentarios de la página {i+1}\")\n",
        "    \n",
        "      r = requests.get(url) \n",
        "      soup = BeautifulSoup(r.content, \"html.parser\") \n",
        "      comentarios_pagina = soup.findAll(\"q\", attrs={'class': 'IRsGHoPm'})\n",
        "      comentarios_pagina = [ c.text for c in comentarios_pagina] \n",
        "      comentarios.append(comentarios_pagina)\n",
        "\n",
        "      # Conseguir el url de la pagina siguiente\n",
        "      url =  \"https://www.tripadvisor.com.mx\" + soup.find(\"a\", attrs={\"class\": \"ui_button nav next primary \"})[\"href\"]\n",
        "    \n",
        "  return comentarios\n",
        "\n",
        "def procesar_comentarios(comentarios, remover_stopwords = True):\n",
        "  \"\"\"Procesa una lista de comentarios y retorna una lista de listas de palabras\"\"\"\n",
        "  resultados = []\n",
        "\n",
        "  for comentario in comentarios:\n",
        "    comentario = comentario.lower() # Pasarlo a minuscula\n",
        "    comentario = re.sub(r\"[^a-z áéíóúñü]\", \"\", comentario) # Elimina todo lo que no sea letras o espacios\n",
        "    comentario = word_tokenize(comentario, \"spanish\") # Separa la oración en palabras\n",
        "    if remover_stopwords: # Remueve las stopwords\n",
        "      comentario = [palabra for palabra in comentario if palabra not in sw]\n",
        "    comentario = [ss.stem(palabra) for palabra in comentario] # Hace stemming a las palabras\n",
        "    resultados.append(comentario)\n",
        "\n",
        "  return resultados\n",
        "\n",
        "def guardar_comentarios(nombre_archivo, comentarios):\n",
        "  \"\"\"Guarda una lista de comentarios en un archivo .csv\"\"\"\n",
        "  with open(nombre_archivo, \"w\") as f:\n",
        "    writer = csv.writer(f)\n",
        "\n",
        "    writer.writerow([\"comentario\"])\n",
        "    for comentario in comentarios:\n",
        "      writer.writerow(comentario)\n",
        "\n",
        "def cargar_comentarios(nombre_archivo):\n",
        "  with open(nombre_archivo, \"r\") as f:\n",
        "    reader = csv.reader(f)\n",
        "    next(reader)\n",
        "\n",
        "    comentarios = []\n",
        "    for r in reader:\n",
        "      comentarios.append(r[0])\n",
        "\n",
        "  return comentarios\n",
        "\n",
        "def palabras_mas_probables(dist, N=10):\n",
        "  palabras, probabilidad = zip(*Counter(dist).most_common(N))\n",
        "  plt.figure(figsize=(15, 5))\n",
        "  plt.bar(palabras, probabilidad)\n",
        "  plt.xticks(fontsize=22)\n",
        "  plt.yticks(fontsize=17)\n",
        "  plt.show()"
      ],
      "execution_count": 3,
      "outputs": []
    },
    {
      "cell_type": "markdown",
      "metadata": {
        "id": "wgPQ9Vur5toS"
      },
      "source": [
        "# Recolección y guardado de comentarios"
      ]
    },
    {
      "cell_type": "code",
      "metadata": {
        "colab": {
          "base_uri": "https://localhost:8080/"
        },
        "id": "Wl5YELH1qDZ4",
        "outputId": "f4b7f0da-5923-4a75-d031-5b8ade032c20"
      },
      "source": [
        "comentarios = recolectar_comentarios(url, 20)\n",
        "guardar_comentarios(\"comentarios.csv\", comentarios)"
      ],
      "execution_count": 4,
      "outputs": [
        {
          "output_type": "stream",
          "text": [
            "Consiguiendo los comentarios de la página 1\n",
            "Consiguiendo los comentarios de la página 2\n",
            "Consiguiendo los comentarios de la página 3\n",
            "Consiguiendo los comentarios de la página 4\n",
            "Consiguiendo los comentarios de la página 5\n",
            "Consiguiendo los comentarios de la página 6\n",
            "Consiguiendo los comentarios de la página 7\n",
            "Consiguiendo los comentarios de la página 8\n",
            "Consiguiendo los comentarios de la página 9\n",
            "Consiguiendo los comentarios de la página 10\n",
            "Consiguiendo los comentarios de la página 11\n",
            "Consiguiendo los comentarios de la página 12\n",
            "Consiguiendo los comentarios de la página 13\n",
            "Consiguiendo los comentarios de la página 14\n",
            "Consiguiendo los comentarios de la página 15\n",
            "Consiguiendo los comentarios de la página 16\n",
            "Consiguiendo los comentarios de la página 17\n",
            "Consiguiendo los comentarios de la página 18\n",
            "Consiguiendo los comentarios de la página 19\n",
            "Consiguiendo los comentarios de la página 20\n"
          ],
          "name": "stdout"
        }
      ]
    },
    {
      "cell_type": "markdown",
      "metadata": {
        "id": "aGwqP-a15xoH"
      },
      "source": [
        "# Carga y procesamiento de comentarios"
      ]
    },
    {
      "cell_type": "code",
      "metadata": {
        "id": "6fXGRTwNubpe"
      },
      "source": [
        "comentarios = cargar_comentarios(\"comentarios.csv\")\n",
        "comentarios_procesados = procesar_comentarios(comentarios, remover_stopwords=False)"
      ],
      "execution_count": 5,
      "outputs": []
    },
    {
      "cell_type": "code",
      "metadata": {
        "id": "-yyTj7uq4PiZ"
      },
      "source": [
        "# Cuando hay más de un documento\n",
        "# c(w, d) - Lista de frecuencias de palabras por comentario frec[n][w] = frecuencia de la palabra w en el comentario n\n",
        "# frec = [Counter(c) for c in comentarios_procesados]"
      ],
      "execution_count": 6,
      "outputs": []
    },
    {
      "cell_type": "markdown",
      "metadata": {
        "id": "gZvjPgi7MrCb"
      },
      "source": [
        "## PLSA para solo un documento y un tema"
      ]
    },
    {
      "cell_type": "code",
      "metadata": {
        "id": "DDTNbGH--UPL"
      },
      "source": [
        "# Hacer un solo documento de todos los comentarios (usado para estimar el modelo de fondo)\n",
        "corpus = [palabra for comentario in comentarios_procesados for palabra in comentario]\n",
        "\n",
        "# Solo tomamos la mitad de los comentarios para evitar el problema que se dio con el modelo de fondo al utilizar todos los datos\n",
        "N = len(comentarios_procesados) // 2\n",
        "C = [palabra for comentario in comentarios_procesados[:N] for palabra in comentario]"
      ],
      "execution_count": 7,
      "outputs": []
    },
    {
      "cell_type": "code",
      "metadata": {
        "id": "9tR-gnkbV1rk"
      },
      "source": [
        "vocab = set(C)"
      ],
      "execution_count": 8,
      "outputs": []
    },
    {
      "cell_type": "code",
      "metadata": {
        "id": "oDvR26SV_bW0"
      },
      "source": [
        "# Estimación del tema de fondo p(w | theta_B) con el corpus\n",
        "frec = Counter(C) # Este solo aplica para el caso de un solo documento\n",
        "Ptheta_B = Counter(corpus)\n",
        "for palabra in Ptheta_B:\n",
        "  Ptheta_B[palabra] /= len(corpus)"
      ],
      "execution_count": 9,
      "outputs": []
    },
    {
      "cell_type": "code",
      "metadata": {
        "colab": {
          "base_uri": "https://localhost:8080/",
          "height": 330
        },
        "id": "DbYgxtFuBMDQ",
        "outputId": "1f662602-5c93-4712-a2e6-8161b1c01563"
      },
      "source": [
        "# Gráfica de las 10 palabras más frecuentes\n",
        "palabras_mas_probables(Ptheta_B)"
      ],
      "execution_count": 10,
      "outputs": [
        {
          "output_type": "display_data",
          "data": {
            "image/png": "[encoded data removed]",
            "text/plain": [
              "<Figure size 1080x360 with 1 Axes>"
            ]
          },
          "metadata": {
            "tags": [],
            "needs_background": "light"
          }
        }
      ]
    },
    {
      "cell_type": "code",
      "metadata": {
        "id": "mx6o8yNaHNHl"
      },
      "source": [
        "# P(theta_d)\n",
        "theta_d = 0.1\n",
        "# P(theta_B) se debe cumplir P(theta_d) + P(theta_B) = 1\n",
        "theta_B = 1.0 - theta_d\n",
        "# P(z = 0 | w)\n",
        "Pz_0 = defaultdict(lambda : 0.0, {palabra:0.0 for palabra in vocab})\n",
        "# P(w | theta_d)\n",
        "Ptheta_d = defaultdict(lambda : 0.0, {palabra:1/len(vocab) for palabra in vocab})"
      ],
      "execution_count": 11,
      "outputs": []
    },
    {
      "cell_type": "code",
      "metadata": {
        "id": "AbwmZvUPIAOC"
      },
      "source": [
        "# Paso E\n",
        "for i in range(20):\n",
        "  for w in vocab:\n",
        "    Pz_0[w] = theta_d * Ptheta_d[w] / (theta_d * Ptheta_d[w] + theta_B * Ptheta_B[w])\n",
        "\n",
        "  # Paso M\n",
        "  denominador = 0.0\n",
        "  for w in vocab:\n",
        "    denominador += frec[w] * Pz_0[w]\n",
        "\n",
        "  for w in vocab:\n",
        "    Ptheta_d[w] = frec[w] * Pz_0[w] / denominador"
      ],
      "execution_count": 12,
      "outputs": []
    },
    {
      "cell_type": "code",
      "metadata": {
        "colab": {
          "base_uri": "https://localhost:8080/",
          "height": 330
        },
        "id": "0B1J_ZOuIB48",
        "outputId": "b05a262e-4a26-4f6a-b206-4e649de44783"
      },
      "source": [
        "# Tema utilizando modelo(tema) de fondo\n",
        "palabras_mas_probables(Ptheta_d)"
      ],
      "execution_count": 13,
      "outputs": [
        {
          "output_type": "display_data",
          "data": {
            "image/png": "[encoded data removed]",
            "text/plain": [
              "<Figure size 1080x360 with 1 Axes>"
            ]
          },
          "metadata": {
            "tags": [],
            "needs_background": "light"
          }
        }
      ]
    },
    {
      "cell_type": "markdown",
      "metadata": {
        "id": "tMeCbSiccHvd"
      },
      "source": [
        "# PLSA sin modelo de fondo y removiendo stopwords (Unigram Model)"
      ]
    },
    {
      "cell_type": "code",
      "metadata": {
        "id": "-sO0eoqfPcZl"
      },
      "source": [
        "comentarios_sin_stopwords = procesar_comentarios(comentarios) # procesamiento quitando stopwords\n",
        "comentarios_sin_stopwords = [p for c in comentarios_sin_stopwords[:N] for p in c] # Hago un solo documento(comentario)\n",
        "P = Counter(comentarios_sin_stopwords) # Cuento las frecuencias de cada palabra\n",
        "for palabra in P:\n",
        "  P[palabra] /= len(comentarios_sin_stopwords) # Divido entre el tamaño del documento\n",
        "\n",
        "# P[w] = P(w | theta) = c(w, d) / | d |"
      ],
      "execution_count": 14,
      "outputs": []
    },
    {
      "cell_type": "code",
      "metadata": {
        "colab": {
          "base_uri": "https://localhost:8080/",
          "height": 330
        },
        "id": "E3LRIFYkXImI",
        "outputId": "3b5c2dc5-72af-4d37-c6d8-da2fc6c970a0"
      },
      "source": [
        "# Tema sin modelo de fondo, quitando stopwords\n",
        "palabras_mas_probables(P)"
      ],
      "execution_count": 15,
      "outputs": [
        {
          "output_type": "display_data",
          "data": {
            "image/png": "[encoded data removed]",
            "text/plain": [
              "<Figure size 1080x360 with 1 Axes>"
            ]
          },
          "metadata": {
            "tags": [],
            "needs_background": "light"
          }
        }
      ]
    },
    {
      "cell_type": "code",
      "metadata": {
        "id": "5ECd2dnKbcWL"
      },
      "source": [
        ""
      ],
      "execution_count": null,
      "outputs": []
    }
  ]
}