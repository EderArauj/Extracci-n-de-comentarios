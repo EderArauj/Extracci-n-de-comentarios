{
  "nbformat": 4,
  "nbformat_minor": 0,
  "metadata": {
    "colab": {
      "name": "plsa.ipynb",
      "provenance": [],
      "collapsed_sections": []
    },
    "kernelspec": {
      "display_name": "Python 3",
      "name": "python3"
    },
    "language_info": {
      "name": "python"
    }
  },
  "cells": [
    {
      "cell_type": "code",
      "metadata": {
        "colab": {
          "base_uri": "https://localhost:8080/"
        },
        "id": "qwA52eHmpHpH",
        "outputId": "e399350f-b480-4aa2-e20e-cbf14f182127"
      },
      "source": [
        "import time\n",
        "import requests\n",
        "from bs4 import BeautifulSoup\n",
        "import csv\n",
        "import re\n",
        "import nltk\n",
        "import matplotlib.pyplot as plt\n",
        "import random\n",
        "from nltk.stem import SnowballStemmer\n",
        "from nltk.tokenize import word_tokenize\n",
        "from nltk.corpus import stopwords \n",
        "from collections import Counter, defaultdict\n",
        "\n",
        "nltk.download(\"stopwords\")\n",
        "nltk.download('punkt')"
      ],
      "execution_count": null,
      "outputs": [
        {
          "output_type": "stream",
          "text": [
            "[nltk_data] Downloading package stopwords to /root/nltk_data...\n",
            "[nltk_data]   Package stopwords is already up-to-date!\n",
            "[nltk_data] Downloading package punkt to /root/nltk_data...\n",
            "[nltk_data]   Package punkt is already up-to-date!\n"
          ],
          "name": "stdout"
        },
        {
          "output_type": "execute_result",
          "data": {
            "text/plain": [
              "True"
            ]
          },
          "metadata": {
            "tags": []
          },
          "execution_count": 25
        }
      ]
    },
    {
      "cell_type": "code",
      "metadata": {
        "id": "m90ODL71paAH"
      },
      "source": [
        "sw = stopwords.words(\"spanish\") # Lista de stopwords\n",
        "ss = SnowballStemmer(\"spanish\") # Stemmer\n",
        "\n",
        "# Url del la primera página de los comentaris del hotel\n",
        "url = \"https://www.tripadvisor.com.mx/Hotel_Review-g292027-d674247-Reviews-Tranquility_Bay_Beach_Retreat-Trujillo_Colon_Department.html#REVIEWS\"\n",
        "\n",
        "def recolectar_comentarios(url, paginas=2, max_intentos=10):\n",
        "  \"\"\"Recolecta los comentarios(documentos) de tripadvisor y los guarda en una lista\"\"\"\n",
        "  comentarios = []\n",
        "\n",
        "  for i in range(paginas): \n",
        "    print(f\"Consiguiendo los comentarios de la página {i+1}\")\n",
        "    headers = {\n",
        "      'User-Agent': 'Mozilla/5.0 (Windows NT 6.1; WOW64) AppleWebKit/537.36 (KHTML, like Gecko) Chrome/56.0.2924.76 Safari/537.36', \n",
        "      \"Upgrade-Insecure-Requests\": \"1\",\n",
        "      \"DNT\": \"1\",\n",
        "      \"Accept\": \"text/html,application/xhtml+xml,application/xml;q=0.9,*/*;q=0.8\",\n",
        "      \"Accept-Language\": \"en-US,en;q=0.5\",\n",
        "      \"Accept-Encoding\": \"gzip, deflate\"\n",
        "    }\n",
        "    intentos = 0\n",
        "    while intentos < max_intentos:\n",
        "      try:\n",
        "        r = requests.get(url, timeout=1)\n",
        "        break\n",
        "      except:\n",
        "        intentos += 1\n",
        "        if intentos < max_intentos:\n",
        "          print(f\"ERROR: Hubo un problema al tratar de conseguir los comentarios. Intentando de nuevo... (Intento {intentos+1}/{max_intentos})\")\n",
        "        time.sleep(5)\n",
        "    if intentos == max_intentos:\n",
        "      print(\"ERROR: No se pudo terminar de conseguir todos los comentarios\")\n",
        "      break\n",
        "\n",
        "    soup = BeautifulSoup(r.content, \"html.parser\") \n",
        "    comentarios_pagina = soup.findAll(\"q\", attrs={'class': 'IRsGHoPm'})\n",
        "    comentarios_pagina = [ c.text for c in comentarios_pagina] \n",
        "    comentarios.append(comentarios_pagina)\n",
        "\n",
        "    # Conseguir el url de la pagina siguiente\n",
        "    url =  \"https://www.tripadvisor.com.mx\" + soup.find(\"a\", attrs={\"class\": \"ui_button nav next primary \"})[\"href\"]\n",
        "\n",
        "  if i == paginas-1:\n",
        "    print(\"Comentarios conseguidos con exito!\")\n",
        "\n",
        "  return comentarios\n",
        "\n",
        "\n",
        "def procesar_comentarios(comentarios, remover_stopwords = True):\n",
        "  \"\"\"Procesa una lista de comentarios y retorna una lista de listas de palabras\"\"\"\n",
        "  resultados = []\n",
        "\n",
        "  for comentario in comentarios:\n",
        "    comentario = comentario.lower() # Pasarlo a minuscula\n",
        "    comentario = re.sub(r\"[^a-z áéíóúñü]\", \"\", comentario) # Elimina todo lo que no sea letras o espacios\n",
        "    comentario = word_tokenize(comentario, \"spanish\") # Separa la oración en palabras\n",
        "    if remover_stopwords: # Remueve las stopwords\n",
        "      comentario = [palabra for palabra in comentario if palabra not in sw]\n",
        "    comentario = [ss.stem(palabra) for palabra in comentario] # Hace stemming a las palabras\n",
        "    resultados.append(comentario)\n",
        "\n",
        "  return resultados\n",
        "\n",
        "def guardar_comentarios(nombre_archivo, comentarios):\n",
        "  \"\"\"Guarda una lista de comentarios en un archivo .csv\"\"\"\n",
        "  with open(nombre_archivo, \"w\") as f:\n",
        "    writer = csv.writer(f)\n",
        "\n",
        "    writer.writerow([\"comentario\"])\n",
        "    for comentario in comentarios:\n",
        "      writer.writerow(comentario)\n",
        "\n",
        "def cargar_comentarios(nombre_archivo):\n",
        "  with open(nombre_archivo, \"r\") as f:\n",
        "    reader = csv.reader(f)\n",
        "    next(reader)\n",
        "\n",
        "    comentarios = []\n",
        "    for r in reader:\n",
        "      comentarios.append(r[0])\n",
        "\n",
        "  return comentarios\n",
        "\n",
        "def palabras_mas_probables(dist, N=10):\n",
        "  palabras, probabilidad = zip(*Counter(dist).most_common(N))\n",
        "  plt.figure(figsize=(15, 5))\n",
        "  plt.bar(palabras, probabilidad)\n",
        "  plt.xticks(fontsize=19)\n",
        "  plt.yticks(fontsize=17)\n",
        "  plt.show()"
      ],
      "execution_count": 64,
      "outputs": []
    },
    {
      "cell_type": "markdown",
      "metadata": {
        "id": "wgPQ9Vur5toS"
      },
      "source": [
        "# Recolección y guardado de comentarios"
      ]
    },
    {
      "cell_type": "code",
      "metadata": {
        "colab": {
          "base_uri": "https://localhost:8080/"
        },
        "id": "Wl5YELH1qDZ4",
        "outputId": "694c2313-e081-4172-ce62-8ba1ed130bbf"
      },
      "source": [
        "comentarios = recolectar_comentarios(url, 5)\n",
        "guardar_comentarios(\"comentarios.csv\", comentarios)"
      ],
      "execution_count": null,
      "outputs": [
        {
          "output_type": "stream",
          "text": [
            "Consiguiendo los comentarios de la página 1\n",
            "Consiguiendo los comentarios de la página 2\n",
            "Consiguiendo los comentarios de la página 3\n",
            "Consiguiendo los comentarios de la página 4\n",
            "ERROR: Hubo un problema al tratar de conseguir los comentarios. Intentando de nuevo... (Intento 2/10)\n",
            "ERROR: Hubo un problema al tratar de conseguir los comentarios. Intentando de nuevo... (Intento 3/10)\n",
            "ERROR: Hubo un problema al tratar de conseguir los comentarios. Intentando de nuevo... (Intento 4/10)\n",
            "Consiguiendo los comentarios de la página 5\n",
            "Comentarios conseguidos con exito!\n"
          ],
          "name": "stdout"
        }
      ]
    },
    {
      "cell_type": "markdown",
      "metadata": {
        "id": "aGwqP-a15xoH"
      },
      "source": [
        "# Carga y procesamiento de comentarios"
      ]
    },
    {
      "cell_type": "code",
      "metadata": {
        "id": "6fXGRTwNubpe"
      },
      "source": [
        "comentarios = cargar_comentarios(\"comentarios.csv\")\n",
        "comentarios_procesados = procesar_comentarios(comentarios, remover_stopwords=False)"
      ],
      "execution_count": null,
      "outputs": []
    },
    {
      "cell_type": "code",
      "metadata": {
        "id": "0mF7AxsnzW8t"
      },
      "source": [
        ""
      ],
      "execution_count": null,
      "outputs": []
    },
    {
      "cell_type": "code",
      "metadata": {
        "id": "-yyTj7uq4PiZ"
      },
      "source": [
        "# Cuando hay más de un documento\n",
        "# c(w, d) - Lista de frecuencias de palabras por comentario frec[n][w] = frecuencia de la palabra w en el comentario n\n",
        "# frec = [Counter(c) for c in comentarios_procesados]"
      ],
      "execution_count": null,
      "outputs": []
    },
    {
      "cell_type": "markdown",
      "metadata": {
        "id": "gZvjPgi7MrCb"
      },
      "source": [
        "## PLSA para solo un documento y un tema"
      ]
    },
    {
      "cell_type": "code",
      "metadata": {
        "id": "DDTNbGH--UPL"
      },
      "source": [
        "# Hacer un solo documento de todos los comentarios (usado para estimar el modelo de fondo)\n",
        "corpus = [palabra for comentario in comentarios_procesados for palabra in comentario]\n",
        "\n",
        "# Solo tomamos la mitad de los comentarios para evitar el problema que se dio con el modelo de fondo al utilizar todos los datos\n",
        "N = len(comentarios_procesados) // 2\n",
        "C = [palabra for comentario in comentarios_procesados[:N] for palabra in comentario]"
      ],
      "execution_count": null,
      "outputs": []
    },
    {
      "cell_type": "code",
      "metadata": {
        "colab": {
          "base_uri": "https://localhost:8080/"
        },
        "id": "-HrAzLbXmVwV",
        "outputId": "bc55c86c-1f1f-49c9-8e42-234116538e09"
      },
      "source": [
        "print(corpus)"
      ],
      "execution_count": null,
      "outputs": [
        {
          "output_type": "stream",
          "text": [
            "['el', 'mejor', 'lug', 'par', 'qued', 'en', 'famili', 'en', 'trujill', 'no', 'te', 'preocup', 'por', 'nad', 'ya', 'que', 'tien', 'tod', 'buen', 'com', 'habit', 'comod', 'climatiz', 'y', 'la', 'play', 'muy', 'cerc', 'y', 'muy', 'segur', 'si', 'quier', 'pas', 'en', 'famili', 'es', 'el', 'lug', 'perfect', 'y', 'hay', 'much', 'cos', 'par', 'hac', 'entre', 'ellas', 'mont', 'a', 'caball', 'pase', 'en', 'lanch', 'y', 'much', 'animal', 'dentr', 'de', 'la', 'propied', 'que', 'pued', 'disfrut', 'hem', 'estad', 'realment', 'tranquil', 'disfrut', 'del', 'lug', 'y', 'de', 'tod', 'el', 'relaj', 'que', 'este', 'ambient', 'pued', 'ofrec', 'la', 'bellez', 'del', 'siti', 'se', 'complement', 'con', 'una', 'atencion', 'realment', 'especial', 'por', 'part', 'de', 'tod', 'su', 'personal', 'un', 'agradec', 'especial', 'par', 'tod', 'ellos', 'antes', 'que', 'nad', 'les', 'dig', 'que', 'los', 'dueñ', 'del', 'hotel', 'respond', 'la', 'reseñ', 'y', 'la', 'notific', 'com', 'fals', 'y', 'lueg', 'trip', 'advisor', 'me', 'envi', 'un', 'corre', 'el', 'de', 'octubr', 'dic', 'que', 'si', 'no', 'certific', 'lo', 'que', 'dij', 'par', 'el', 'de', 'octubr', 'entonc', 'cancel', 'mi', 'reseñ', 'lament', 'no', 'hab', 'vist', 'ese', 'corre', 'hast', 'el', 'dia', 'de', 'hoy', 'de', 'octubr', 'porqu', 'he', 'estad', 'enferm', 'per', 'tod', 'lo', 'que', 'escrib', 'es', 'verd', 'y', 'no', 'lo', 'piens', 'dej', 'sin', 'que', 'lo', 'publiqu', 'asi', 'sea', 'que', 'me', 'teng', 'que', 'cre', 'otra', 'cuent', 'en', 'trip', 'advisor', 'al', 'ago', 'por', 'el', 'estil', 'empez', 'mis', 'quej', 'con', 'lo', 'men', 'desagrad', 'a', 'lo', 'intoler', 'definit', 'tranquility', 'bay', 'beach', 'retreat', 'es', 'el', 'peor', 'hotel', 'en', 'el', 'que', 'he', 'estad', 'y', 'eso', 'que', 'he', 'estad', 'en', 'hotel', 'de', 'menor', 'preci', 'y', 'de', 'men', 'estrell', 'que', 'este', 'hotel', 'numer', 'uno', 'no', 'hab', 'luz', 'ni', 'agu', 'cuand', 'muy', 'bell', 'play', 'priv', 'ambient', 'famili', 'las', 'cabañ', 'y', 'tod', 'sus', 'instal', 'son', 'muy', 'limpi', 'a', 'minut', 'del', 'puebl', 'hay', 'caball', 'par', 'pas', 'y', 'activ', 'acuat', 'en', 'especial', 'busc', 'un', 'lug', 'sin', 'picin', 'y', 'este', 'm', 'gust', 'por', 'eso', 'una', 'atencion', 'sup', 'excelent', 'las', 'cabañ', 'muy', 'bonit', 'muy', 'buen', 'segur', 'la', 'play', 'priv', 'encant', 'se', 'respir', 'un', 'ambient', 'de', 'paz', 'y', 'tranquil', 'me', 'agrad', 'com', 'es', 'el', 'ambient', 'ya', 'que', 'viaj', 'con', 'mis', 'papas', 'pud', 'ver', 'la', 'amabil', 'de', 'las', 'person', 'en', 'el', 'hotel', 'un', 'buen', 'servici', 'de', 'part', 'de', 'ellos', 'y', 'sincer', 'es', 'lug', 'que', 'lo', 'recom', 'al']\n"
          ],
          "name": "stdout"
        }
      ]
    },
    {
      "cell_type": "code",
      "metadata": {
        "id": "9tR-gnkbV1rk"
      },
      "source": [
        "vocab = set(C)"
      ],
      "execution_count": null,
      "outputs": []
    },
    {
      "cell_type": "code",
      "metadata": {
        "id": "oDvR26SV_bW0"
      },
      "source": [
        "# Estimación del tema de fondo p(w | theta_B) con el corpus\n",
        "frec = Counter(C) # Este solo aplica para el caso de un solo documento\n",
        "Ptheta_B = Counter(corpus)\n",
        "for palabra in Ptheta_B:\n",
        "  Ptheta_B[palabra] /= len(corpus)"
      ],
      "execution_count": null,
      "outputs": []
    },
    {
      "cell_type": "code",
      "metadata": {
        "colab": {
          "base_uri": "https://localhost:8080/",
          "height": 330
        },
        "id": "DbYgxtFuBMDQ",
        "outputId": "ec3ebb41-bd00-41e8-8a10-9510d88ed71d"
      },
      "source": [
        "# Gráfica de las 10 palabras más frecuentes\n",
        "palabras_mas_probables(Ptheta_B)"
      ],
      "execution_count": null,
      "outputs": [
        {
          "output_type": "display_data",
          "data": {
            "image/png": "[encoded data removed]",
            "text/plain": [
              "<Figure size 1080x360 with 1 Axes>"
            ]
          },
          "metadata": {
            "tags": [],
            "needs_background": "light"
          }
        }
      ]
    },
    {
      "cell_type": "code",
      "metadata": {
        "id": "mx6o8yNaHNHl"
      },
      "source": [
        "# P(theta_d)\n",
        "theta_d = 0.1\n",
        "# P(theta_B) se debe cumplir P(theta_d) + P(theta_B) = 1\n",
        "theta_B = 1.0 - theta_d\n",
        "# P(z = 0 | w)\n",
        "Pz_0 = defaultdict(lambda : 0.0, {palabra:0.0 for palabra in vocab})\n",
        "# P(w | theta_d)\n",
        "Ptheta_d = defaultdict(lambda : 0.0, {palabra:1/len(vocab) for palabra in vocab})"
      ],
      "execution_count": null,
      "outputs": []
    },
    {
      "cell_type": "code",
      "metadata": {
        "colab": {
          "base_uri": "https://localhost:8080/"
        },
        "id": "SOjwsHTKnBPU",
        "outputId": "1bd6c84b-2653-401f-fd8b-2378f8e42348"
      },
      "source": [
        "print(Ptheta_d)"
      ],
      "execution_count": null,
      "outputs": [
        {
          "output_type": "stream",
          "text": [
            "defaultdict(<function <lambda> at 0x7f6bae242830>, {'famili': 0.0136986301369863, 'habit': 0.0136986301369863, 'mejor': 0.0136986301369863, 'ya': 0.0136986301369863, 'par': 0.0136986301369863, 'es': 0.0136986301369863, 'mont': 0.0136986301369863, 'perfect': 0.0136986301369863, 'caball': 0.0136986301369863, 'disfrut': 0.0136986301369863, 'hem': 0.0136986301369863, 'ellos': 0.0136986301369863, 'que': 0.0136986301369863, 'segur': 0.0136986301369863, 'de': 0.0136986301369863, 'un': 0.0136986301369863, 'del': 0.0136986301369863, 'complement': 0.0136986301369863, 'por': 0.0136986301369863, 'muy': 0.0136986301369863, 'ellas': 0.0136986301369863, 'trujill': 0.0136986301369863, 'cerc': 0.0136986301369863, 'tranquil': 0.0136986301369863, 'su': 0.0136986301369863, 'y': 0.0136986301369863, 'hay': 0.0136986301369863, 'entre': 0.0136986301369863, 'el': 0.0136986301369863, 'agradec': 0.0136986301369863, 'no': 0.0136986301369863, 'bellez': 0.0136986301369863, 'qued': 0.0136986301369863, 'lug': 0.0136986301369863, 'atencion': 0.0136986301369863, 'pued': 0.0136986301369863, 'relaj': 0.0136986301369863, 'lanch': 0.0136986301369863, 'dentr': 0.0136986301369863, 'play': 0.0136986301369863, 'tod': 0.0136986301369863, 'pase': 0.0136986301369863, 'propied': 0.0136986301369863, 'realment': 0.0136986301369863, 'este': 0.0136986301369863, 'con': 0.0136986301369863, 'quier': 0.0136986301369863, 'preocup': 0.0136986301369863, 'si': 0.0136986301369863, 'especial': 0.0136986301369863, 'climatiz': 0.0136986301369863, 'cos': 0.0136986301369863, 'personal': 0.0136986301369863, 'ambient': 0.0136986301369863, 'estad': 0.0136986301369863, 'com': 0.0136986301369863, 'siti': 0.0136986301369863, 'buen': 0.0136986301369863, 'en': 0.0136986301369863, 'a': 0.0136986301369863, 'animal': 0.0136986301369863, 'te': 0.0136986301369863, 'hac': 0.0136986301369863, 'ofrec': 0.0136986301369863, 'se': 0.0136986301369863, 'part': 0.0136986301369863, 'tien': 0.0136986301369863, 'la': 0.0136986301369863, 'una': 0.0136986301369863, 'nad': 0.0136986301369863, 'pas': 0.0136986301369863, 'much': 0.0136986301369863, 'comod': 0.0136986301369863})\n"
          ],
          "name": "stdout"
        }
      ]
    },
    {
      "cell_type": "code",
      "metadata": {
        "id": "AbwmZvUPIAOC"
      },
      "source": [
        "# Paso E\n",
        "for i in range(20):\n",
        "  for w in vocab:\n",
        "    Pz_0[w] = theta_d * Ptheta_d[w] / (theta_d * Ptheta_d[w] + theta_B * Ptheta_B[w])\n",
        "\n",
        "  # Paso M\n",
        "  denominador = 0.0\n",
        "  for w in vocab:\n",
        "    denominador += frec[w] * Pz_0[w]\n",
        "\n",
        "  for w in vocab:\n",
        "    Ptheta_d[w] = frec[w] * Pz_0[w] / denominador"
      ],
      "execution_count": null,
      "outputs": []
    },
    {
      "cell_type": "code",
      "metadata": {
        "colab": {
          "base_uri": "https://localhost:8080/"
        },
        "id": "YjowQ7PZ4Ygg",
        "outputId": "640a521f-9add-4b90-d821-0292de950151"
      },
      "source": [
        "print(Pz_0)"
      ],
      "execution_count": null,
      "outputs": [
        {
          "output_type": "stream",
          "text": [
            "defaultdict(<function <lambda> at 0x7f6bae2423b0>, {'famili': 0.195421135925114, 'habit': 0.46505903118096437, 'mejor': 0.46505903118096437, 'ya': 0.017536193230787717, 'par': 0.10494668426798064, 'es': 6.55260295897422e-10, 'mont': 0.46505903118096437, 'perfect': 0.46505903118096437, 'caball': 0.017536193230787717, 'disfrut': 0.46505607764054546, 'hem': 0.46505903118096437, 'ellos': 0.017536193230787717, 'que': 6.693898708606653e-11, 'segur': 0.017536193230787717, 'de': 4.173876887058514e-09, 'un': 6.55260295897422e-10, 'del': 0.01401650313767603, 'complement': 0.46505903118096437, 'por': 0.01401650313767603, 'muy': 8.474020951278975e-06, 'ellas': 0.46505903118096437, 'trujill': 0.46505903118096437, 'cerc': 0.46505903118096437, 'tranquil': 0.017536193230787717, 'su': 0.46505903118096437, 'y': 3.8335284037495916e-06, 'hay': 0.017536193230787717, 'entre': 0.46505903118096437, 'el': 1.1498758673120424e-07, 'agradec': 0.46505903118096437, 'no': 6.55260295897422e-10, 'bellez': 0.46505903118096437, 'qued': 0.46505903118096437, 'lug': 0.10494668426798064, 'atencion': 0.017536193230787717, 'pued': 0.46505607764054546, 'relaj': 0.46505903118096437, 'lanch': 0.46505903118096437, 'dentr': 0.46505903118096437, 'play': 1.42062512577276e-05, 'tod': 0.19201323171612575, 'pase': 0.46505903118096437, 'propied': 0.46505903118096437, 'realment': 0.46505607764054546, 'este': 1.42062512577276e-05, 'con': 1.42062512577276e-05, 'quier': 0.46505903118096437, 'preocup': 0.46505903118096437, 'si': 0.017536193230787717, 'especial': 0.195421135925114, 'climatiz': 0.46505903118096437, 'cos': 0.46505903118096437, 'personal': 0.46505903118096437, 'ambient': 5.314022446669685e-08, 'estad': 5.314022446669685e-08, 'com': 1.42062512577276e-05, 'siti': 0.46505903118096437, 'buen': 1.42062512577276e-05, 'en': 0.0012333651389869185, 'a': 1.42062512577276e-05, 'animal': 0.46505903118096437, 'te': 0.46505903118096437, 'hac': 0.46505903118096437, 'ofrec': 0.46505903118096437, 'se': 0.017536193230787717, 'part': 0.017536193230787717, 'tien': 0.46505903118096437, 'la': 0.0007725572023625216, 'una': 0.017536193230787717, 'nad': 0.017536193230787717, 'pas': 0.017536193230787717, 'much': 0.46505607764054546, 'comod': 0.46505903118096437})\n"
          ],
          "name": "stdout"
        }
      ]
    },
    {
      "cell_type": "code",
      "metadata": {
        "id": "0B1J_ZOuIB48",
        "colab": {
          "base_uri": "https://localhost:8080/",
          "height": 330
        },
        "outputId": "e75c227c-8424-4a22-d730-88a11fd003ca"
      },
      "source": [
        "# Tema utilizando modelo(tema) de fondo\n",
        "palabras_mas_probables(Ptheta_d)"
      ],
      "execution_count": null,
      "outputs": [
        {
          "output_type": "display_data",
          "data": {
            "image/png": "[encoded data removed]",
            "text/plain": [
              "<Figure size 1080x360 with 1 Axes>"
            ]
          },
          "metadata": {
            "tags": [],
            "needs_background": "light"
          }
        }
      ]
    },
    {
      "cell_type": "markdown",
      "metadata": {
        "id": "tMeCbSiccHvd"
      },
      "source": [
        "# PLSA sin modelo de fondo y removiendo stopwords (Unigram Model)"
      ]
    },
    {
      "cell_type": "code",
      "metadata": {
        "id": "-sO0eoqfPcZl"
      },
      "source": [
        "comentarios_sin_stopwords = procesar_comentarios(comentarios) # procesamiento quitando stopwords\n",
        "comentarios_sin_stopwords = [p for c in comentarios_sin_stopwords[:N] for p in c] # Hago un solo documento(comentario)\n",
        "P = Counter(comentarios_sin_stopwords) # Cuento las frecuencias de cada palabra\n",
        "for palabra in P:\n",
        "  P[palabra] /= len(comentarios_sin_stopwords) # Divido entre el tamaño del documento\n",
        "\n",
        "# P[w] = P(w | theta) = c(w, d) / | d |"
      ],
      "execution_count": null,
      "outputs": []
    },
    {
      "cell_type": "code",
      "metadata": {
        "colab": {
          "base_uri": "https://localhost:8080/",
          "height": 330
        },
        "id": "E3LRIFYkXImI",
        "outputId": "e1196c0e-cb73-405d-aabf-96408e247fa9"
      },
      "source": [
        "# Tema sin modelo de fondo, quitando stopwords\n",
        "palabras_mas_probables(P)"
      ],
      "execution_count": null,
      "outputs": [
        {
          "output_type": "display_data",
          "data": {
            "image/png": "[encoded data removed]",
            "text/plain": [
              "<Figure size 1080x360 with 1 Axes>"
            ]
          },
          "metadata": {
            "tags": [],
            "needs_background": "light"
          }
        }
      ]
    },
    {
      "cell_type": "markdown",
      "metadata": {
        "id": "7SFnaUmCGc-Z"
      },
      "source": [
        "# PASO E Y PASO M\n"
      ]
    },
    {
      "cell_type": "code",
      "metadata": {
        "id": "u6cNUz-npYof"
      },
      "source": [
        "comentarios_por_documentos=[]\n",
        "\n",
        "for d in range(len(comentarios)):\n",
        "  comentarios_por_documentos.append(comentarios[d])\n",
        "\n",
        "documentos = procesar_comentarios(comentarios_por_documentos)"
      ],
      "execution_count": null,
      "outputs": []
    },
    {
      "cell_type": "code",
      "metadata": {
        "id": "ab4t4xOpprzU"
      },
      "source": [
        "documento = []\n",
        "for j in range(len(documentos)):\n",
        "  documento.append(set(documentos[j]))"
      ],
      "execution_count": null,
      "outputs": []
    },
    {
      "cell_type": "code",
      "metadata": {
        "colab": {
          "base_uri": "https://localhost:8080/"
        },
        "id": "o2ER4koQqyuc",
        "outputId": "f094b106-a2ec-48df-cb1a-164ac12709b4"
      },
      "source": [
        "print(documento[1])"
      ],
      "execution_count": null,
      "outputs": [
        {
          "output_type": "stream",
          "text": [
            "{'ambient', 'tranquil', 'siti', 'disfrut', 'agradec', 'part', 'bellez', 'ofrec', 'lug', 'complement', 'realment', 'atencion', 'especial', 'pued', 'personal', 'relaj'}\n"
          ],
          "name": "stdout"
        }
      ]
    },
    {
      "cell_type": "code",
      "metadata": {
        "id": "rTlYd3Hcq92R"
      },
      "source": [
        "Pz_j = []\n",
        "# P(w : theta_j)\n",
        "Ptheta_j = []\n",
        "# P(Z_dw=j)\n",
        "for i in range(len(documento)):\n",
        "  Pz_j.append(defaultdict(lambda : 0.00, {palabra:0.00 for palabra in documento[i]}))\n",
        "# P(w | theta_j)\n",
        "for j in range(len(documento)):\n",
        "  Ptheta_j.append(defaultdict(lambda : 0.0, {palabra:random.random() for palabra in documento[j]}))"
      ],
      "execution_count": null,
      "outputs": []
    },
    {
      "cell_type": "code",
      "metadata": {
        "colab": {
          "base_uri": "https://localhost:8080/",
          "height": 335
        },
        "id": "RHE-8ZcxfVht",
        "outputId": "28f471f4-ff52-4dfb-d59e-7299de65785c"
      },
      "source": [
        ""
      ],
      "execution_count": 72,
      "outputs": [
        {
          "output_type": "display_data",
          "data": {
            "image/png": "[encoded data removed]",
            "text/plain": [
              "<Figure size 1080x360 with 1 Axes>"
            ]
          },
          "metadata": {
            "tags": [],
            "needs_background": "light"
          }
        }
      ]
    },
    {
      "cell_type": "code",
      "metadata": {
        "id": "6x8EWffCtMYk"
      },
      "source": [
        "theta_j = []\n",
        "for i in range(len(documento)):\n",
        "  theta_j.append(random.random())"
      ],
      "execution_count": null,
      "outputs": []
    },
    {
      "cell_type": "code",
      "metadata": {
        "colab": {
          "base_uri": "https://localhost:8080/"
        },
        "id": "A1FXX7BAul3A",
        "outputId": "ba1882a0-9325-437e-daea-71e9d6c2e093"
      },
      "source": [
        "den = []\n",
        "for i in range(len(documento)):\n",
        "  for w in documento[i]:\n",
        "    den.append(Ptheta_j[i][w]*theta_j[i])\n",
        "\n",
        "denominador = sum(list(set(den)))\n",
        "\n",
        "for i in range(len(documento)):\n",
        "  for w in documento[i]:\n",
        "    Pz_j[i][w] = theta_j[i]* Ptheta_j[i][w]/denominador\n",
        "\n",
        "denominador = sum(list(set(den)))\n",
        "print(Pz_j[1])"
      ],
      "execution_count": null,
      "outputs": [
        {
          "output_type": "stream",
          "text": [
            "defaultdict(<function <lambda> at 0x7f6bae11f170>, {'ambient': 0.003808355685397062, 'tranquil': 0.0007774656634079775, 'siti': 0.0013476679709127862, 'disfrut': 0.0020754531422762026, 'agradec': 0.0035345585883429322, 'part': 0.0021654947117018424, 'bellez': 0.003480154880619709, 'ofrec': 0.002334026030319411, 'lug': 0.003783065489900967, 'complement': 0.002793768501366999, 'realment': 0.0005081774421609289, 'atencion': 9.816096797750147e-05, 'especial': 0.0013777140328220764, 'pued': 0.002550008833967231, 'personal': 0.0007971703545332325, 'relaj': 6.663768356596947e-05})\n"
          ],
          "name": "stdout"
        }
      ]
    },
    {
      "cell_type": "code",
      "metadata": {
        "colab": {
          "base_uri": "https://localhost:8080/"
        },
        "id": "ynxbxW3_4KNp",
        "outputId": "c98ebca6-2568-40a2-a6a2-be432d34b548"
      },
      "source": [
        "# PASO E - 1\n",
        "P_zj = []\n",
        "for i in range(len(documento)):\n",
        "  for w in documento[i]:\n",
        "    P_zj.append(Pz_j[i][w]/denominador)\n",
        "\n",
        "Pz = list(set(P_zj))\n",
        "print(Pz)"
      ],
      "execution_count": null,
      "outputs": [
        {
          "output_type": "stream",
          "text": [
            "[0.0003449522615421877, 0.00015382769350625, 0.00013359008198299597, 5.8651922268730066e-05, 0.0003102129853020976, 0.00010157925858456557, 7.233802346057151e-07, 0.00010695525212512347, 0.00011204682686916681, 2.1524171981649177e-05, 0.0008339002356596641, 9.055560590543748e-05, 4.35506347202889e-05, 0.00020331571028920823, 5.9959558367250344e-05, 0.0008382318840651918, 0.00012037774620200904, 0.00036914509308296395, 8.116955769301362e-05, 0.00014486235895107887, 9.910660814240744e-05, 0.0002525350016424886, 0.00041627705930682995, 8.410969776687255e-05, 0.0008367826271862581, 0.0002684105791770713, 9.924941923981859e-05, 0.0008298332973069461, 0.00015009747004795024, 0.0010346635734142411, 0.0001317899543343202, 0.00031623327887203014, 6.144714291661967e-05, 2.1897248247143413e-05, 0.00021995769330913122, 7.237322152693134e-05, 1.736621143695104e-05, 0.0006175635609103157, 0.00018536691277055859, 0.00012336561955301984, 0.00022600615876829132, 0.00023740285607416932, 3.469368915649989e-05, 8.413655223223381e-05, 0.00028190442225225164, 0.00024018295889923605, 0.0003311978984988595, 6.243456733864498e-05, 2.900141816112364e-06, 0.0005383769087420037, 0.0006951027234674828, 0.00012131152900516002, 0.00012106661082253762, 0.00023949942530729706, 0.00028505889207939157, 0.00011097905652022053, 3.160194931836926e-05, 0.0010735164506599816, 0.00018356553510776694, 4.391070071516769e-05, 0.00022904229783448106, 0.0006305504824753897, 0.0002686243167430083, 0.00011253172067903664, 0.00028707466773669115, 1.992858099996699e-05, 5.852800568761371e-05, 0.000948073153846591, 0.00022883883803703696, 0.00034991741853784944, 0.0007413841584810192, 0.0001496758479734324, 7.881473460391997e-05, 0.00020789030799085053, 5.193510769297681e-05, 0.00015058987103178995, 0.00019706486879512506, 0.0013225634319554802, 1.721129233702348e-06, 0.00028207350048815784, 0.0008731159005884859, 0.0007473444561329076, 0.0006433081238571716, 0.00030824527738029, 0.00011485386882239538, 0.00011026163364826947, 0.00012710330432899283, 0.00015491749389298466, 0.00027042342537000847, 0.0001716439567104596, 8.252973333747464e-05, 0.0006759851527745946, 0.00026361801629108005, 0.000584475456252211, 0.00025217595096386423, 0.0006776917074239688, 0.0002660568456706422, 0.00037721613628598433, 0.00011967510080828152, 0.0003052522422097211, 0.0006445992642540222, 0.00030444671935619407, 7.753432560469499e-05, 1.3144861648214333e-05, 0.0001657436300725439, 0.00021731977090383407, 0.00027518539538456965, 2.2116414784390336e-05, 0.0006131207353949351, 0.0007518741929379317, 0.00016464297426383362, 0.0010163136913041212, 0.0005731714310585676, 0.0008006429625026584, 8.674290991446642e-06, 8.19638695845468e-05, 3.383612035086521e-05, 0.0001064990325125457, 0.0007469197191507128, 0.0001851457846297686, 3.659891779902397e-05, 0.0005097374026911908, 0.0008549340582321933, 0.00030619665508410703, 0.0002964017240154333, 1.2665219895265386e-05, 0.00041368457074939213, 0.00012503739320377384, 0.00036590831135583393, 0.00025849981479318223, 0.00015145998713837368, 0.00012158773267277407, 0.0013959445177753455, 5.1355721318631986e-05, 4.272068185860522e-06, 9.032589554734848e-05, 0.00012653901830871184, 0.0011395080903397901, 9.424459900019537e-05, 0.00023479905963851553, 0.00020943163232156064, 0.0008312388505908825, 0.00013794217930684555, 0.00042729169005073167, 0.00016742392187407663]\n"
          ],
          "name": "stdout"
        }
      ]
    },
    {
      "cell_type": "code",
      "metadata": {
        "id": "JYUJTYS9zQPE"
      },
      "source": [
        "# PASO E - 2\n",
        "lambda_B = 0.5\n",
        "Pz_B = lambda_B * theta_B /(lambda_B * theta_B + (1-lambda_B) * denominador)"
      ],
      "execution_count": null,
      "outputs": []
    },
    {
      "cell_type": "code",
      "metadata": {
        "colab": {
          "base_uri": "https://localhost:8080/"
        },
        "id": "5qwKHL0w1FhM",
        "outputId": "8d88017a-7fbe-44dd-93b8-39ec4ed461c7"
      },
      "source": [
        "# PASO M - 1\n",
        "frec_m = [Counter(c) for c in comentarios_procesados]\n",
        "num = []\n",
        "for i in range(len(documento)):\n",
        "  for w in vocab:\n",
        "    num.append(frec_m[i][w]*(1-Pz_B)*Pz[i])\n",
        "\n",
        "Pi_dj = sum(num)/(len(documento)*sum(num))"
      ],
      "execution_count": null,
      "outputs": [
        {
          "output_type": "stream",
          "text": [
            "0.2\n"
          ],
          "name": "stdout"
        }
      ]
    },
    {
      "cell_type": "code",
      "metadata": {
        "colab": {
          "base_uri": "https://localhost:8080/"
        },
        "id": "7f-m2_CGKtgA",
        "outputId": "35ff7733-b386-479a-9b63-756128368fb1"
      },
      "source": [
        "# PASO M - 2\n",
        "frec_m2 = [Counter(c) for c in comentarios_procesados]\n",
        "num2 = []\n",
        "for i in range(len(documento)):\n",
        "  for w in set(frec):\n",
        "    num2.append(frec_m[i][w]*(1-Pz_B)*Pz[i])\n",
        "Pi_thetaj = sum(num2)/(len(vocab)*sum(num2))\n"
      ],
      "execution_count": null,
      "outputs": [
        {
          "output_type": "execute_result",
          "data": {
            "text/plain": [
              "0.0136986301369863"
            ]
          },
          "metadata": {
            "tags": []
          },
          "execution_count": 56
        }
      ]
    },
    {
      "cell_type": "code",
      "metadata": {
        "colab": {
          "base_uri": "https://localhost:8080/",
          "height": 1000
        },
        "id": "cJ9aycDAdL1t",
        "outputId": "ff67aafc-5df2-426e-cf72-227a63ea71cb"
      },
      "source": [
        "for i in range(4):\n",
        "  palabras_mas_probables(Ptheta_j[i])"
      ],
      "execution_count": 74,
      "outputs": [
        {
          "output_type": "display_data",
          "data": {
            "image/png": "[encoded data removed]",
            "text/plain": [
              "<Figure size 1080x360 with 1 Axes>"
            ]
          },
          "metadata": {
            "tags": [],
            "needs_background": "light"
          }
        },
        {
          "output_type": "display_data",
          "data": {
            "image/png": "[encoded data removed]",
            "text/plain": [
              "<Figure size 1080x360 with 1 Axes>"
            ]
          },
          "metadata": {
            "tags": [],
            "needs_background": "light"
          }
        },
        {
          "output_type": "display_data",
          "data": {
            "image/png": "[encoded data removed]",
            "text/plain": [
              "<Figure size 1080x360 with 1 Axes>"
            ]
          },
          "metadata": {
            "tags": [],
            "needs_background": "light"
          }
        },
        {
          "output_type": "display_data",
          "data": {
            "image/png": "[encoded data removed]",
            "text/plain": [
              "<Figure size 1080x360 with 1 Axes>"
            ]
          },
          "metadata": {
            "tags": [],
            "needs_background": "light"
          }
        }
      ]
    }
  ]
}