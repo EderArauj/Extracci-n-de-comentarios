{
  "nbformat": 4,
  "nbformat_minor": 0,
  "metadata": {
    "colab": {
      "name": "plsa.ipynb",
      "provenance": [],
      "collapsed_sections": []
    },
    "kernelspec": {
      "display_name": "Python 3",
      "name": "python3"
    },
    "language_info": {
      "name": "python"
    }
  },
  "cells": [
    {
      "cell_type": "code",
      "metadata": {
        "colab": {
          "base_uri": "https://localhost:8080/"
        },
        "id": "qwA52eHmpHpH",
        "outputId": "df019609-73df-4506-e653-f34a1d3fc615"
      },
      "source": [
        "import time\n",
        "import requests\n",
        "from bs4 import BeautifulSoup\n",
        "import csv\n",
        "import re\n",
        "import nltk\n",
        "import matplotlib.pyplot as plt\n",
        "import random\n",
        "from nltk.stem import SnowballStemmer\n",
        "from nltk.tokenize import word_tokenize\n",
        "from nltk.corpus import stopwords \n",
        "from collections import Counter, defaultdict\n",
        "from math import log\n",
        "\n",
        "nltk.download(\"stopwords\")\n",
        "nltk.download('punkt')"
      ],
      "execution_count": 48,
      "outputs": [
        {
          "output_type": "stream",
          "text": [
            "[nltk_data] Downloading package stopwords to /root/nltk_data...\n",
            "[nltk_data]   Package stopwords is already up-to-date!\n",
            "[nltk_data] Downloading package punkt to /root/nltk_data...\n",
            "[nltk_data]   Package punkt is already up-to-date!\n"
          ],
          "name": "stdout"
        },
        {
          "output_type": "execute_result",
          "data": {
            "text/plain": [
              "True"
            ]
          },
          "metadata": {
            "tags": []
          },
          "execution_count": 48
        }
      ]
    },
    {
      "cell_type": "code",
      "metadata": {
        "id": "m90ODL71paAH"
      },
      "source": [
        "sw = stopwords.words(\"spanish\") # Lista de stopwords\n",
        "ss = SnowballStemmer(\"spanish\") # Stemmer\n",
        "\n",
        "# Url del la primera página de los comentaris del hotel\n",
        "url = \"https://www.tripadvisor.com.mx/Hotel_Review-g292027-d674247-Reviews-Tranquility_Bay_Beach_Retreat-Trujillo_Colon_Department.html#REVIEWS\"\n",
        "\n",
        "def recolectar_comentarios(url, paginas=2, max_intentos=10):\n",
        "  \"\"\"Recolecta los comentarios(documentos) de tripadvisor y los guarda en una lista\"\"\"\n",
        "  comentarios = []\n",
        "\n",
        "  for i in range(paginas): \n",
        "    print(f\"Consiguiendo los comentarios de la página {i+1}\")\n",
        "    headers = {\n",
        "      'User-Agent': 'Mozilla/5.0 (Windows NT 6.1; WOW64) AppleWebKit/537.36 (KHTML, like Gecko) Chrome/56.0.2924.76 Safari/537.36', \n",
        "      \"Upgrade-Insecure-Requests\": \"1\",\n",
        "      \"DNT\": \"1\",\n",
        "      \"Accept\": \"text/html,application/xhtml+xml,application/xml;q=0.9,*/*;q=0.8\",\n",
        "      \"Accept-Language\": \"en-US,en;q=0.5\",\n",
        "      \"Accept-Encoding\": \"gzip, deflate\"\n",
        "    }\n",
        "    intentos = 0\n",
        "    while intentos < max_intentos:\n",
        "      try:\n",
        "        r = requests.get(url, timeout=1)\n",
        "        break\n",
        "      except:\n",
        "        intentos += 1\n",
        "        if intentos < max_intentos:\n",
        "          print(f\"ERROR: Hubo un problema al tratar de conseguir los comentarios. Intentando de nuevo... (Intento {intentos+1}/{max_intentos})\")\n",
        "        time.sleep(5)\n",
        "    if intentos == max_intentos:\n",
        "      print(\"ERROR: No se pudo terminar de conseguir todos los comentarios\")\n",
        "      break\n",
        "\n",
        "    soup = BeautifulSoup(r.content, \"html.parser\") \n",
        "    comentarios_pagina = soup.findAll(\"q\", attrs={'class': 'IRsGHoPm'})\n",
        "    comentarios_pagina = [ c.text for c in comentarios_pagina] \n",
        "    comentarios.append(comentarios_pagina)\n",
        "\n",
        "    # Conseguir el url de la pagina siguiente\n",
        "    url =  \"https://www.tripadvisor.com.mx\" + soup.find(\"a\", attrs={\"class\": \"ui_button nav next primary \"})[\"href\"]\n",
        "\n",
        "  if i == paginas-1:\n",
        "    print(\"Comentarios conseguidos con exito!\")\n",
        "\n",
        "  return comentarios\n",
        "\n",
        "\n",
        "def procesar_comentarios(comentarios, remover_stopwords = True):\n",
        "  \"\"\"Procesa una lista de comentarios y retorna una lista de listas de palabras\"\"\"\n",
        "  resultados = []\n",
        "\n",
        "  for comentario in comentarios:\n",
        "    comentario = comentario.lower() # Pasarlo a minuscula\n",
        "    comentario = re.sub(r\"[^a-z áéíóúñü]\", \"\", comentario) # Elimina todo lo que no sea letras o espacios\n",
        "    comentario = word_tokenize(comentario, \"spanish\") # Separa la oración en palabras\n",
        "    if remover_stopwords: # Remueve las stopwords\n",
        "      comentario = [palabra for palabra in comentario if palabra not in sw]\n",
        "    comentario = [ss.stem(palabra) for palabra in comentario] # Hace stemming a las palabras\n",
        "    resultados.append(comentario)\n",
        "\n",
        "  return resultados\n",
        "\n",
        "def guardar_comentarios(nombre_archivo, comentarios):\n",
        "  \"\"\"Guarda una lista de comentarios en un archivo .csv\"\"\"\n",
        "  with open(nombre_archivo, \"w\") as f:\n",
        "    writer = csv.writer(f)\n",
        "\n",
        "    writer.writerow([\"comentario\"])\n",
        "    for comentario in comentarios:\n",
        "      writer.writerow(comentario)\n",
        "\n",
        "def cargar_comentarios(nombre_archivo):\n",
        "  with open(nombre_archivo, \"r\") as f:\n",
        "    reader = csv.reader(f)\n",
        "    next(reader)\n",
        "\n",
        "    comentarios = []\n",
        "    for r in reader:\n",
        "      comentarios.append(r[0])\n",
        "\n",
        "  return comentarios\n",
        "\n",
        "def palabras_mas_probables(dist, N=10):\n",
        "  palabras, probabilidad = zip(*Counter(dist).most_common(N))\n",
        "  plt.figure(figsize=(15, 5))\n",
        "  plt.bar(palabras, probabilidad)\n",
        "  plt.xticks(fontsize=19)\n",
        "  plt.yticks(fontsize=17)\n",
        "  plt.show()"
      ],
      "execution_count": 49,
      "outputs": []
    },
    {
      "cell_type": "markdown",
      "metadata": {
        "id": "wgPQ9Vur5toS"
      },
      "source": [
        "# Recolección y guardado de comentarios"
      ]
    },
    {
      "cell_type": "code",
      "metadata": {
        "colab": {
          "base_uri": "https://localhost:8080/"
        },
        "id": "Wl5YELH1qDZ4",
        "outputId": "a8e51b92-643f-406c-853c-46756e67f75a"
      },
      "source": [
        "comentarios = recolectar_comentarios(url, 5)\n",
        "guardar_comentarios(\"comentarios.csv\", comentarios)"
      ],
      "execution_count": 50,
      "outputs": [
        {
          "output_type": "stream",
          "text": [
            "Consiguiendo los comentarios de la página 1\n",
            "Consiguiendo los comentarios de la página 2\n",
            "Consiguiendo los comentarios de la página 3\n",
            "Consiguiendo los comentarios de la página 4\n",
            "Consiguiendo los comentarios de la página 5\n",
            "ERROR: Hubo un problema al tratar de conseguir los comentarios. Intentando de nuevo... (Intento 2/10)\n",
            "Comentarios conseguidos con exito!\n"
          ],
          "name": "stdout"
        }
      ]
    },
    {
      "cell_type": "markdown",
      "metadata": {
        "id": "aGwqP-a15xoH"
      },
      "source": [
        "# Carga y procesamiento de comentarios"
      ]
    },
    {
      "cell_type": "code",
      "metadata": {
        "id": "6fXGRTwNubpe"
      },
      "source": [
        "comentarios = cargar_comentarios(\"comentarios.csv\")\n",
        "comentarios_procesados = procesar_comentarios(comentarios, remover_stopwords=False)"
      ],
      "execution_count": 51,
      "outputs": []
    },
    {
      "cell_type": "code",
      "metadata": {
        "id": "-yyTj7uq4PiZ"
      },
      "source": [
        "# Cuando hay más de un documento\n",
        "# c(w, d) - Lista de frecuencias de palabras por comentario frec[n][w] = frecuencia de la palabra w en el comentario n\n",
        "# frec = [Counter(c) for c in comentarios_procesados]"
      ],
      "execution_count": 52,
      "outputs": []
    },
    {
      "cell_type": "markdown",
      "metadata": {
        "id": "gZvjPgi7MrCb"
      },
      "source": [
        "## PLSA para solo un documento y un tema"
      ]
    },
    {
      "cell_type": "code",
      "metadata": {
        "id": "DDTNbGH--UPL"
      },
      "source": [
        "# Hacer un solo documento de todos los comentarios (usado para estimar el modelo de fondo)\n",
        "corpus = [palabra for comentario in comentarios_procesados for palabra in comentario]\n",
        "\n",
        "# Solo tomamos la mitad de los comentarios para evitar el problema que se dio con el modelo de fondo al utilizar todos los datos\n",
        "N = len(comentarios_procesados) // 2\n",
        "C = [palabra for comentario in comentarios_procesados[:N] for palabra in comentario]"
      ],
      "execution_count": 53,
      "outputs": []
    },
    {
      "cell_type": "code",
      "metadata": {
        "id": "9tR-gnkbV1rk"
      },
      "source": [
        "vocab = set(C)"
      ],
      "execution_count": 54,
      "outputs": []
    },
    {
      "cell_type": "code",
      "metadata": {
        "id": "oDvR26SV_bW0"
      },
      "source": [
        "# Estimación del tema de fondo p(w | theta_B) con el corpus\n",
        "frec = Counter(C) # Este solo aplica para el caso de un solo documento\n",
        "Ptheta_B = Counter(corpus)\n",
        "for palabra in Ptheta_B:\n",
        "  Ptheta_B[palabra] /= len(corpus)"
      ],
      "execution_count": 55,
      "outputs": []
    },
    {
      "cell_type": "code",
      "metadata": {
        "colab": {
          "base_uri": "https://localhost:8080/",
          "height": 329
        },
        "id": "DbYgxtFuBMDQ",
        "outputId": "db538817-c867-4ab1-a493-ba0dc2ab1d13"
      },
      "source": [
        "# Gráfica de las 10 palabras más frecuentes\n",
        "palabras_mas_probables(Ptheta_B)"
      ],
      "execution_count": 56,
      "outputs": [
        {
          "output_type": "display_data",
          "data": {
            "image/png": "[encoded data removed]",
            "text/plain": [
              "<Figure size 1080x360 with 1 Axes>"
            ]
          },
          "metadata": {
            "tags": [],
            "needs_background": "light"
          }
        }
      ]
    },
    {
      "cell_type": "code",
      "metadata": {
        "id": "mx6o8yNaHNHl"
      },
      "source": [
        "# P(theta_d)\n",
        "theta_d = 0.1\n",
        "# P(theta_B) se debe cumplir P(theta_d) + P(theta_B) = 1\n",
        "theta_B = 1.0 - theta_d\n",
        "# P(z = 0 | w)\n",
        "Pz_0 = defaultdict(lambda : 0.0, {palabra:0.0 for palabra in vocab})\n",
        "# P(w | theta_d)\n",
        "Ptheta_d = defaultdict(lambda : 0.0, {palabra:1/len(vocab) for palabra in vocab})"
      ],
      "execution_count": 57,
      "outputs": []
    },
    {
      "cell_type": "code",
      "metadata": {
        "id": "AbwmZvUPIAOC"
      },
      "source": [
        "# Paso E\n",
        "for i in range(20):\n",
        "  for w in vocab:\n",
        "    Pz_0[w] = theta_d * Ptheta_d[w] / (theta_d * Ptheta_d[w] + theta_B * Ptheta_B[w])\n",
        "\n",
        "  # Paso M\n",
        "  denominador = 0.0\n",
        "  for w in vocab:\n",
        "    denominador += frec[w] * Pz_0[w]\n",
        "\n",
        "  for w in vocab:\n",
        "    Ptheta_d[w] = frec[w] * Pz_0[w] / denominador"
      ],
      "execution_count": 58,
      "outputs": []
    },
    {
      "cell_type": "code",
      "metadata": {
        "colab": {
          "base_uri": "https://localhost:8080/",
          "height": 329
        },
        "id": "0B1J_ZOuIB48",
        "outputId": "befd3581-869e-4d36-9982-8edb1afb07f2"
      },
      "source": [
        "# Tema utilizando modelo(tema) de fondo\n",
        "palabras_mas_probables(Ptheta_d)"
      ],
      "execution_count": 59,
      "outputs": [
        {
          "output_type": "display_data",
          "data": {
            "image/png": "[encoded data removed]",
            "text/plain": [
              "<Figure size 1080x360 with 1 Axes>"
            ]
          },
          "metadata": {
            "tags": [],
            "needs_background": "light"
          }
        }
      ]
    },
    {
      "cell_type": "markdown",
      "metadata": {
        "id": "tMeCbSiccHvd"
      },
      "source": [
        "# PLSA sin modelo de fondo y removiendo stopwords (Unigram Model)"
      ]
    },
    {
      "cell_type": "code",
      "metadata": {
        "id": "-sO0eoqfPcZl"
      },
      "source": [
        "comentarios_sin_stopwords = procesar_comentarios(comentarios) # procesamiento quitando stopwords\n",
        "comentarios_sin_stopwords = [p for c in comentarios_sin_stopwords[:N] for p in c] # Hago un solo documento(comentario)\n",
        "P = Counter(comentarios_sin_stopwords) # Cuento las frecuencias de cada palabra\n",
        "for palabra in P:\n",
        "  P[palabra] /= len(comentarios_sin_stopwords) # Divido entre el tamaño del documento\n",
        "\n",
        "# P[w] = P(w | theta) = c(w, d) / | d |"
      ],
      "execution_count": 60,
      "outputs": []
    },
    {
      "cell_type": "code",
      "metadata": {
        "colab": {
          "base_uri": "https://localhost:8080/",
          "height": 329
        },
        "id": "E3LRIFYkXImI",
        "outputId": "3dd817c3-ab87-41fd-f2b7-fcc5133723b2"
      },
      "source": [
        "# Tema sin modelo de fondo, quitando stopwords\n",
        "palabras_mas_probables(P)"
      ],
      "execution_count": 61,
      "outputs": [
        {
          "output_type": "display_data",
          "data": {
            "image/png": "[encoded data removed]",
            "text/plain": [
              "<Figure size 1080x360 with 1 Axes>"
            ]
          },
          "metadata": {
            "tags": [],
            "needs_background": "light"
          }
        }
      ]
    },
    {
      "cell_type": "markdown",
      "metadata": {
        "id": "7SFnaUmCGc-Z"
      },
      "source": [
        "# PASO E Y PASO M\n"
      ]
    },
    {
      "cell_type": "code",
      "metadata": {
        "id": "u6cNUz-npYof"
      },
      "source": [
        "comentarios_por_documentos=[]\n",
        "\n",
        "for d in range(len(comentarios)):\n",
        "  comentarios_por_documentos.append(comentarios[d])\n",
        "\n",
        "documentos = procesar_comentarios(comentarios_por_documentos)"
      ],
      "execution_count": 62,
      "outputs": []
    },
    {
      "cell_type": "code",
      "metadata": {
        "id": "ab4t4xOpprzU"
      },
      "source": [
        "documento = []\n",
        "for j in range(len(documentos)):\n",
        "  documento.append(set(documentos[j]))"
      ],
      "execution_count": 63,
      "outputs": []
    },
    {
      "cell_type": "code",
      "metadata": {
        "id": "rTlYd3Hcq92R"
      },
      "source": [
        "Pz_j=[]\n",
        "# P(w : theta_j)\n",
        "Ptheta_j = []\n",
        "# P(Z_dw=j)\n",
        "for i in range(len(documento)):\n",
        "  Pz_j.append(defaultdict(lambda : 0.00, {palabra:0.00 for palabra in documento[i]}))\n",
        "# P(w | theta_j)\n",
        "for j in range(len(documento)):\n",
        "  Ptheta_j.append(defaultdict(lambda : 0.0, {palabra:random.random() for palabra in documento[j]}))"
      ],
      "execution_count": 64,
      "outputs": []
    },
    {
      "cell_type": "code",
      "metadata": {
        "id": "6x8EWffCtMYk"
      },
      "source": [
        "theta_j = []\n",
        "for i in range(len(documento)):\n",
        "  theta_j.append(random.random())"
      ],
      "execution_count": 65,
      "outputs": []
    },
    {
      "cell_type": "code",
      "metadata": {
        "id": "SUqw4Hri18fR"
      },
      "source": [
        "P_thetaj = list(map(lambda x: x / sum(theta_j), theta_j))"
      ],
      "execution_count": 66,
      "outputs": []
    },
    {
      "cell_type": "code",
      "metadata": {
        "id": "A1FXX7BAul3A"
      },
      "source": [
        "den = []\n",
        "for i in range(len(documento)):\n",
        "  for w in documento[i]:\n",
        "    den.append(Ptheta_j[i][w]*theta_j[i])\n",
        "\n",
        "denominador = sum(list(set(den)))\n",
        "# print(denominador)"
      ],
      "execution_count": 67,
      "outputs": []
    },
    {
      "cell_type": "code",
      "metadata": {
        "id": "ynxbxW3_4KNp"
      },
      "source": [
        "# PASO E - 1\n",
        "\n",
        "for i in range(len(documento)):\n",
        "  for w in documento[i]:\n",
        "    Pz_j[i][w] = P_thetaj[i] * Ptheta_j[i][w]/denominador"
      ],
      "execution_count": 68,
      "outputs": []
    },
    {
      "cell_type": "code",
      "metadata": {
        "id": "JYUJTYS9zQPE"
      },
      "source": [
        "# PASO E - 2\n",
        "lambda_B = 0.5\n",
        "Pz_B = lambda_B * theta_B /(lambda_B * theta_B + (1-lambda_B) * denominador)"
      ],
      "execution_count": 69,
      "outputs": []
    },
    {
      "cell_type": "code",
      "metadata": {
        "id": "Se_1f9MH6lt5"
      },
      "source": [
        "V = []\n",
        "for i in range(len(documento)):\n",
        "  V.append(set(documento[i]))"
      ],
      "execution_count": 70,
      "outputs": []
    },
    {
      "cell_type": "code",
      "metadata": {
        "id": "5qwKHL0w1FhM"
      },
      "source": [
        "# PASO M \n",
        "num = []\n",
        "for i in range(len(documento)):\n",
        "  for w in V[i]:\n",
        "    num.append(frec[w]*(1-Pz_B)*Pz_j[i][w])\n",
        "# P^(n+1) (theta_j)\n",
        "Pthetaj = sum(num)/(len(documento)*sum(num)) "
      ],
      "execution_count": 71,
      "outputs": []
    },
    {
      "cell_type": "code",
      "metadata": {
        "id": "ylhkS0g0nalq",
        "colab": {
          "base_uri": "https://localhost:8080/",
          "height": 1000
        },
        "outputId": "bb91ad9b-605d-4399-bf5e-9803d59a961b"
      },
      "source": [
        "for i in range(len(P_thetaj)):\n",
        "  palabras_mas_probables(Ptheta_j[i])"
      ],
      "execution_count": 77,
      "outputs": [
        {
          "output_type": "display_data",
          "data": {
            "image/png": "[encoded data removed]",
            "text/plain": [
              "<Figure size 1080x360 with 1 Axes>"
            ]
          },
          "metadata": {
            "tags": [],
            "needs_background": "light"
          }
        },
        {
          "output_type": "display_data",
          "data": {
            "image/png": "[encoded data removed]",
            "text/plain": [
              "<Figure size 1080x360 with 1 Axes>"
            ]
          },
          "metadata": {
            "tags": [],
            "needs_background": "light"
          }
        },
        {
          "output_type": "display_data",
          "data": {
            "image/png": "[encoded data removed]",
            "text/plain": [
              "<Figure size 1080x360 with 1 Axes>"
            ]
          },
          "metadata": {
            "tags": [],
            "needs_background": "light"
          }
        },
        {
          "output_type": "display_data",
          "data": {
            "image/png": "[encoded data removed]",
            "text/plain": [
              "<Figure size 1080x360 with 1 Axes>"
            ]
          },
          "metadata": {
            "tags": [],
            "needs_background": "light"
          }
        },
        {
          "output_type": "display_data",
          "data": {
            "image/png": "[encoded data removed]",
            "text/plain": [
              "<Figure size 1080x360 with 1 Axes>"
            ]
          },
          "metadata": {
            "tags": [],
            "needs_background": "light"
          }
        }
      ]
    }
  ]
}