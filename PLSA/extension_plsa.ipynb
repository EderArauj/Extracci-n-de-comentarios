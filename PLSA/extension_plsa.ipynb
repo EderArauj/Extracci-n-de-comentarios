{
  "nbformat": 4,
  "nbformat_minor": 0,
  "metadata": {
    "colab": {
      "name": "plsa.ipynb",
      "provenance": [],
      "collapsed_sections": []
    },
    "kernelspec": {
      "display_name": "Python 3",
      "name": "python3"
    },
    "language_info": {
      "name": "python"
    }
  },
  "cells": [
    {
      "cell_type": "code",
      "metadata": {
        "colab": {
          "base_uri": "https://localhost:8080/"
        },
        "id": "qwA52eHmpHpH",
        "outputId": "000d8ab3-5744-4c42-bf2a-023f622796ed"
      },
      "source": [
        "import time\n",
        "import requests\n",
        "from bs4 import BeautifulSoup\n",
        "import csv\n",
        "import re\n",
        "import nltk\n",
        "import matplotlib.pyplot as plt\n",
        "import random\n",
        "from nltk.stem import SnowballStemmer\n",
        "from nltk.tokenize import word_tokenize\n",
        "from nltk.corpus import stopwords \n",
        "from collections import Counter, defaultdict\n",
        "from math import log\n",
        "\n",
        "nltk.download(\"stopwords\")\n",
        "nltk.download('punkt')"
      ],
      "execution_count": 1,
      "outputs": [
        {
          "output_type": "stream",
          "text": [
            "[nltk_data] Downloading package stopwords to /root/nltk_data...\n",
            "[nltk_data]   Unzipping corpora/stopwords.zip.\n",
            "[nltk_data] Downloading package punkt to /root/nltk_data...\n",
            "[nltk_data]   Unzipping tokenizers/punkt.zip.\n"
          ],
          "name": "stdout"
        },
        {
          "output_type": "execute_result",
          "data": {
            "text/plain": [
              "True"
            ]
          },
          "metadata": {
            "tags": []
          },
          "execution_count": 1
        }
      ]
    },
    {
      "cell_type": "code",
      "metadata": {
        "id": "m90ODL71paAH"
      },
      "source": [
        "sw = stopwords.words(\"spanish\") # Lista de stopwords\n",
        "ss = SnowballStemmer(\"spanish\") # Stemmer\n",
        "\n",
        "# Url del la primera página de los comentaris del hotel\n",
        "url = \"https://www.tripadvisor.com.mx/Hotel_Review-g292027-d674247-Reviews-Tranquility_Bay_Beach_Retreat-Trujillo_Colon_Department.html#REVIEWS\"\n",
        "\n",
        "def recolectar_comentarios(url, paginas=2, max_intentos=10):\n",
        "  \"\"\"Recolecta los comentarios(documentos) de tripadvisor y los guarda en una lista\"\"\"\n",
        "  comentarios = []\n",
        "\n",
        "  for i in range(paginas): \n",
        "    print(f\"Consiguiendo los comentarios de la página {i+1}\")\n",
        "    headers = {\n",
        "      'User-Agent': 'Mozilla/5.0 (Windows NT 6.1; WOW64) AppleWebKit/537.36 (KHTML, like Gecko) Chrome/56.0.2924.76 Safari/537.36', \n",
        "      \"Upgrade-Insecure-Requests\": \"1\",\n",
        "      \"DNT\": \"1\",\n",
        "      \"Accept\": \"text/html,application/xhtml+xml,application/xml;q=0.9,*/*;q=0.8\",\n",
        "      \"Accept-Language\": \"en-US,en;q=0.5\",\n",
        "      \"Accept-Encoding\": \"gzip, deflate\"\n",
        "    }\n",
        "    intentos = 0\n",
        "    while intentos < max_intentos:\n",
        "      try:\n",
        "        r = requests.get(url, timeout=1)\n",
        "        break\n",
        "      except:\n",
        "        intentos += 1\n",
        "        if intentos < max_intentos:\n",
        "          print(f\"ERROR: Hubo un problema al tratar de conseguir los comentarios. Intentando de nuevo... (Intento {intentos+1}/{max_intentos})\")\n",
        "        time.sleep(5)\n",
        "    if intentos == max_intentos:\n",
        "      print(\"ERROR: No se pudo terminar de conseguir todos los comentarios\")\n",
        "      break\n",
        "\n",
        "    soup = BeautifulSoup(r.content, \"html.parser\") \n",
        "    comentarios_pagina = soup.findAll(\"q\", attrs={'class': 'IRsGHoPm'})\n",
        "    comentarios_pagina = [ c.text for c in comentarios_pagina] \n",
        "    comentarios.append(comentarios_pagina)\n",
        "\n",
        "    # Conseguir el url de la pagina siguiente\n",
        "    url =  \"https://www.tripadvisor.com.mx\" + soup.find(\"a\", attrs={\"class\": \"ui_button nav next primary \"})[\"href\"]\n",
        "\n",
        "  if i == paginas-1:\n",
        "    print(\"Comentarios conseguidos con exito!\")\n",
        "\n",
        "  return comentarios\n",
        "\n",
        "\n",
        "def procesar_comentarios(comentarios, remover_stopwords = True):\n",
        "  \"\"\"Procesa una lista de comentarios y retorna una lista de listas de palabras\"\"\"\n",
        "  resultados = []\n",
        "\n",
        "  for comentario in comentarios:\n",
        "    comentario = comentario.lower() # Pasarlo a minuscula\n",
        "    comentario = re.sub(r\"[^a-z áéíóúñü]\", \"\", comentario) # Elimina todo lo que no sea letras o espacios\n",
        "    comentario = word_tokenize(comentario, \"spanish\") # Separa la oración en palabras\n",
        "    if remover_stopwords: # Remueve las stopwords\n",
        "      comentario = [palabra for palabra in comentario if palabra not in sw]\n",
        "    comentario = [ss.stem(palabra) for palabra in comentario] # Hace stemming a las palabras\n",
        "    resultados.append(comentario)\n",
        "\n",
        "  return resultados\n",
        "\n",
        "def guardar_comentarios(nombre_archivo, comentarios):\n",
        "  \"\"\"Guarda una lista de comentarios en un archivo .csv\"\"\"\n",
        "  with open(nombre_archivo, \"w\") as f:\n",
        "    writer = csv.writer(f)\n",
        "\n",
        "    writer.writerow([\"comentario\"])\n",
        "    for comentario in comentarios:\n",
        "      writer.writerow(comentario)\n",
        "\n",
        "def cargar_comentarios(nombre_archivo):\n",
        "  with open(nombre_archivo, \"r\") as f:\n",
        "    reader = csv.reader(f)\n",
        "    next(reader)\n",
        "\n",
        "    comentarios = []\n",
        "    for r in reader:\n",
        "      comentarios.append(r[0])\n",
        "\n",
        "  return comentarios\n",
        "\n",
        "def palabras_mas_probables(dist, N=10):\n",
        "  palabras, probabilidad = zip(*Counter(dist).most_common(N))\n",
        "  plt.figure(figsize=(15, 5))\n",
        "  plt.bar(palabras, probabilidad)\n",
        "  plt.xticks(fontsize=19)\n",
        "  plt.yticks(fontsize=17)\n",
        "  plt.show()"
      ],
      "execution_count": 2,
      "outputs": []
    },
    {
      "cell_type": "markdown",
      "metadata": {
        "id": "wgPQ9Vur5toS"
      },
      "source": [
        "# Recolección y guardado de comentarios"
      ]
    },
    {
      "cell_type": "code",
      "metadata": {
        "colab": {
          "base_uri": "https://localhost:8080/"
        },
        "id": "Wl5YELH1qDZ4",
        "outputId": "5fbd5ebf-7c2c-4e11-cdd3-87e63deea4c9"
      },
      "source": [
        "comentarios = recolectar_comentarios(url, 5)\n",
        "guardar_comentarios(\"comentarios.csv\", comentarios)"
      ],
      "execution_count": 3,
      "outputs": [
        {
          "output_type": "stream",
          "text": [
            "Consiguiendo los comentarios de la página 1\n",
            "ERROR: Hubo un problema al tratar de conseguir los comentarios. Intentando de nuevo... (Intento 2/10)\n",
            "ERROR: Hubo un problema al tratar de conseguir los comentarios. Intentando de nuevo... (Intento 3/10)\n",
            "ERROR: Hubo un problema al tratar de conseguir los comentarios. Intentando de nuevo... (Intento 4/10)\n",
            "ERROR: Hubo un problema al tratar de conseguir los comentarios. Intentando de nuevo... (Intento 5/10)\n",
            "ERROR: Hubo un problema al tratar de conseguir los comentarios. Intentando de nuevo... (Intento 6/10)\n",
            "ERROR: Hubo un problema al tratar de conseguir los comentarios. Intentando de nuevo... (Intento 7/10)\n",
            "ERROR: Hubo un problema al tratar de conseguir los comentarios. Intentando de nuevo... (Intento 8/10)\n",
            "Consiguiendo los comentarios de la página 2\n",
            "Consiguiendo los comentarios de la página 3\n",
            "Consiguiendo los comentarios de la página 4\n",
            "Consiguiendo los comentarios de la página 5\n",
            "Comentarios conseguidos con exito!\n"
          ],
          "name": "stdout"
        }
      ]
    },
    {
      "cell_type": "markdown",
      "metadata": {
        "id": "aGwqP-a15xoH"
      },
      "source": [
        "# Carga y procesamiento de comentarios"
      ]
    },
    {
      "cell_type": "code",
      "metadata": {
        "id": "6fXGRTwNubpe"
      },
      "source": [
        "comentarios = cargar_comentarios(\"comentarios.csv\")\n",
        "comentarios_procesados = procesar_comentarios(comentarios, remover_stopwords=False)"
      ],
      "execution_count": 4,
      "outputs": []
    },
    {
      "cell_type": "code",
      "metadata": {
        "id": "-yyTj7uq4PiZ"
      },
      "source": [
        "# Cuando hay más de un documento\n",
        "# c(w, d) - Lista de frecuencias de palabras por comentario frec[n][w] = frecuencia de la palabra w en el comentario n\n",
        "# frec = [Counter(c) for c in comentarios_procesados]"
      ],
      "execution_count": 5,
      "outputs": []
    },
    {
      "cell_type": "markdown",
      "metadata": {
        "id": "gZvjPgi7MrCb"
      },
      "source": [
        "## PLSA para solo un documento y un tema"
      ]
    },
    {
      "cell_type": "code",
      "metadata": {
        "id": "DDTNbGH--UPL"
      },
      "source": [
        "# Hacer un solo documento de todos los comentarios (usado para estimar el modelo de fondo)\n",
        "corpus = [palabra for comentario in comentarios_procesados for palabra in comentario]\n",
        "\n",
        "# Solo tomamos la mitad de los comentarios para evitar el problema que se dio con el modelo de fondo al utilizar todos los datos\n",
        "N = len(comentarios_procesados) // 2\n",
        "C = [palabra for comentario in comentarios_procesados[:N] for palabra in comentario]"
      ],
      "execution_count": 6,
      "outputs": []
    },
    {
      "cell_type": "code",
      "metadata": {
        "id": "9tR-gnkbV1rk"
      },
      "source": [
        "vocab = set(C)"
      ],
      "execution_count": 7,
      "outputs": []
    },
    {
      "cell_type": "code",
      "metadata": {
        "id": "oDvR26SV_bW0"
      },
      "source": [
        "# Estimación del tema de fondo p(w | theta_B) con el corpus\n",
        "frec = Counter(C) # Este solo aplica para el caso de un solo documento\n",
        "Ptheta_B = Counter(corpus)\n",
        "for palabra in Ptheta_B:\n",
        "  Ptheta_B[palabra] /= len(corpus)"
      ],
      "execution_count": 8,
      "outputs": []
    },
    {
      "cell_type": "code",
      "metadata": {
        "colab": {
          "base_uri": "https://localhost:8080/",
          "height": 329
        },
        "id": "DbYgxtFuBMDQ",
        "outputId": "080f0168-928b-467e-bd7e-e7c95063a55f"
      },
      "source": [
        "# Gráfica de las 10 palabras más frecuentes\n",
        "palabras_mas_probables(Ptheta_B)"
      ],
      "execution_count": 9,
      "outputs": [
        {
          "output_type": "display_data",
          "data": {
            "image/png": "[encoded data removed]",
            "text/plain": [
              "<Figure size 1080x360 with 1 Axes>"
            ]
          },
          "metadata": {
            "tags": [],
            "needs_background": "light"
          }
        }
      ]
    },
    {
      "cell_type": "code",
      "metadata": {
        "id": "mx6o8yNaHNHl"
      },
      "source": [
        "# P(theta_d)\n",
        "theta_d = 0.1\n",
        "# P(theta_B) se debe cumplir P(theta_d) + P(theta_B) = 1\n",
        "theta_B = 1.0 - theta_d\n",
        "# P(z = 0 | w)\n",
        "Pz_0 = defaultdict(lambda : 0.0, {palabra:0.0 for palabra in vocab})\n",
        "# P(w | theta_d)\n",
        "Ptheta_d = defaultdict(lambda : 0.0, {palabra:1/len(vocab) for palabra in vocab})"
      ],
      "execution_count": 10,
      "outputs": []
    },
    {
      "cell_type": "code",
      "metadata": {
        "id": "AbwmZvUPIAOC"
      },
      "source": [
        "# Paso E\n",
        "for i in range(20):\n",
        "  for w in vocab:\n",
        "    Pz_0[w] = theta_d * Ptheta_d[w] / (theta_d * Ptheta_d[w] + theta_B * Ptheta_B[w])\n",
        "\n",
        "  # Paso M\n",
        "  denominador = 0.0\n",
        "  for w in vocab:\n",
        "    denominador += frec[w] * Pz_0[w]\n",
        "\n",
        "  for w in vocab:\n",
        "    Ptheta_d[w] = frec[w] * Pz_0[w] / denominador"
      ],
      "execution_count": 11,
      "outputs": []
    },
    {
      "cell_type": "code",
      "metadata": {
        "colab": {
          "base_uri": "https://localhost:8080/",
          "height": 329
        },
        "id": "0B1J_ZOuIB48",
        "outputId": "ddc0a58e-847b-4a82-9a33-e3a87e3a9975"
      },
      "source": [
        "# Tema utilizando modelo(tema) de fondo\n",
        "palabras_mas_probables(Ptheta_d)"
      ],
      "execution_count": 12,
      "outputs": [
        {
          "output_type": "display_data",
          "data": {
            "image/png": "[encoded data removed]",
            "text/plain": [
              "<Figure size 1080x360 with 1 Axes>"
            ]
          },
          "metadata": {
            "tags": [],
            "needs_background": "light"
          }
        }
      ]
    },
    {
      "cell_type": "markdown",
      "metadata": {
        "id": "tMeCbSiccHvd"
      },
      "source": [
        "# PLSA sin modelo de fondo y removiendo stopwords (Unigram Model)"
      ]
    },
    {
      "cell_type": "code",
      "metadata": {
        "id": "-sO0eoqfPcZl"
      },
      "source": [
        "comentarios_sin_stopwords = procesar_comentarios(comentarios) # procesamiento quitando stopwords\n",
        "comentarios_sin_stopwords = [p for c in comentarios_sin_stopwords[:N] for p in c] # Hago un solo documento(comentario)\n",
        "P = Counter(comentarios_sin_stopwords) # Cuento las frecuencias de cada palabra\n",
        "for palabra in P:\n",
        "  P[palabra] /= len(comentarios_sin_stopwords) # Divido entre el tamaño del documento\n",
        "\n",
        "# P[w] = P(w | theta) = c(w, d) / | d |"
      ],
      "execution_count": 13,
      "outputs": []
    },
    {
      "cell_type": "code",
      "metadata": {
        "colab": {
          "base_uri": "https://localhost:8080/",
          "height": 329
        },
        "id": "E3LRIFYkXImI",
        "outputId": "819bf41f-cbf3-49ca-d103-79215e04852d"
      },
      "source": [
        "# Tema sin modelo de fondo, quitando stopwords\n",
        "palabras_mas_probables(P)"
      ],
      "execution_count": 14,
      "outputs": [
        {
          "output_type": "display_data",
          "data": {
            "image/png": "[encoded data removed]",
            "text/plain": [
              "<Figure size 1080x360 with 1 Axes>"
            ]
          },
          "metadata": {
            "tags": [],
            "needs_background": "light"
          }
        }
      ]
    },
    {
      "cell_type": "markdown",
      "metadata": {
        "id": "7SFnaUmCGc-Z"
      },
      "source": [
        "# PASO E Y PASO M\n"
      ]
    },
    {
      "cell_type": "code",
      "metadata": {
        "id": "u6cNUz-npYof"
      },
      "source": [
        "comentarios_por_documentos=[]\n",
        "\n",
        "for d in range(len(comentarios)):\n",
        "  comentarios_por_documentos.append(comentarios[d])\n",
        "\n",
        "documentos = procesar_comentarios(comentarios_por_documentos)"
      ],
      "execution_count": 15,
      "outputs": []
    },
    {
      "cell_type": "code",
      "metadata": {
        "id": "ab4t4xOpprzU"
      },
      "source": [
        "documento = []\n",
        "for j in range(len(documentos)):\n",
        "  documento.append(set(documentos[j]))"
      ],
      "execution_count": 17,
      "outputs": []
    },
    {
      "cell_type": "code",
      "metadata": {
        "id": "rTlYd3Hcq92R"
      },
      "source": [
        "Pz_j=[]\n",
        "# P(w : theta_j)\n",
        "Ptheta_j = []\n",
        "# P(Z_dw=j)\n",
        "for i in range(len(documento)):\n",
        "  Pz_j.append(defaultdict(lambda : 0.00, {palabra:0.00 for palabra in documento[i]}))\n",
        "# P(w | theta_j)\n",
        "for j in range(len(documento)):\n",
        "  Ptheta_j.append(defaultdict(lambda : 0.0, {palabra:random.random() for palabra in documento[j]}))"
      ],
      "execution_count": 19,
      "outputs": []
    },
    {
      "cell_type": "code",
      "metadata": {
        "id": "6x8EWffCtMYk"
      },
      "source": [
        "theta_j = []\n",
        "for i in range(len(documento)):\n",
        "  theta_j.append(random.random())"
      ],
      "execution_count": 21,
      "outputs": []
    },
    {
      "cell_type": "code",
      "metadata": {
        "id": "SUqw4Hri18fR"
      },
      "source": [
        "P_thetaj = list(map(lambda x: x / sum(theta_j), theta_j))"
      ],
      "execution_count": 22,
      "outputs": []
    },
    {
      "cell_type": "code",
      "metadata": {
        "id": "A1FXX7BAul3A"
      },
      "source": [
        "den = []\n",
        "for i in range(len(documento)):\n",
        "  for w in documento[i]:\n",
        "    den.append(Ptheta_j[i][w]*theta_j[i])\n",
        "\n",
        "denominador = sum(list(set(den)))\n",
        "# print(denominador)"
      ],
      "execution_count": 23,
      "outputs": []
    },
    {
      "cell_type": "code",
      "metadata": {
        "id": "ynxbxW3_4KNp"
      },
      "source": [
        "# PASO E - 1\n",
        "\n",
        "for i in range(len(documento)):\n",
        "  for w in documento[i]:\n",
        "    Pz_j[i][w] = P_thetaj[i] * Ptheta_j[i][w]/denominador"
      ],
      "execution_count": 25,
      "outputs": []
    },
    {
      "cell_type": "code",
      "metadata": {
        "colab": {
          "base_uri": "https://localhost:8080/"
        },
        "id": "pW75uqhCJYTT",
        "outputId": "5f985b0b-f21d-4e52-ee39-77353972e9ad"
      },
      "source": [
        "print(Pz_j)"
      ],
      "execution_count": 26,
      "outputs": [
        {
          "output_type": "stream",
          "text": [
            "[defaultdict(<function <lambda> at 0x7fe469cb2b00>, {'lug': 0.006871461370562466, 'lanch': 0.003850699610448562, 'pued': 0.0001857870809153897, 'hac': 0.0015695202517039208, 'si': 0.007048647100801484, 'pas': 0.0024437334852567935, 'much': 0.003136498904848463, 'disfrut': 0.005537185927585146, 'famili': 0.004089522957150779, 'qued': 0.004260454983275162, 'preocup': 0.005015267014085501, 'quier': 0.005246703715438462, 'pase': 0.0001560584818662669, 'com': 0.000278444028111623, 'habit': 0.005109593352328557, 'trujill': 0.00406861951579649, 'climatiz': 0.004803027825016795, 'animal': 0.0027573763687429626, 'cerc': 0.0002672081892202138, 'caball': 0.0009772643158590007, 'comod': 0.00346283954164873, 'mejor': 0.005483354613955352, 'perfect': 0.0012893923792118098, 'propied': 0.0011820097234868843, 'mont': 0.005198810205663177, 'dentr': 0.0023138613248553826, 'play': 1.5471803096268762e-05, 'cos': 0.0011777355079191638, 'buen': 0.000858744225116584, 'segur': 0.00650079297203063}), defaultdict(<function <lambda> at 0x7fe469cb2d40>, {'lug': 0.0009721585874641715, 'pued': 0.00018929268048320971, 'atencion': 0.0013573352401137356, 'ambient': 0.00015334961542059534, 'realment': 0.0005003798810467109, 'relaj': 0.000610024607888374, 'agradec': 0.0007455936825666988, 'personal': 0.0019506470830991992, 'complement': 0.0009512286848359782, 'part': 0.0014978468085484612, 'bellez': 0.00024160846095402385, 'siti': 0.00132562359941549, 'especial': 0.0006509464234908938, 'disfrut': 0.0004661967562628359, 'ofrec': 0.000910650336590127, 'tranquil': 0.00013384944492972434}), defaultdict(<function <lambda> at 0x7fe469cb2a70>, {'piens': 0.007775357074862206, 'numer': 0.003353626405413486, 'tranquility': 0.00024155245902559658, 'si': 0.007218922628807463, 'hotel': 0.007799081834965279, 'empez': 0.006541802374392967, 'dig': 0.0017435847077861136, 'retreat': 0.007997063171985048, 'trip': 0.002416963711005683, 'entonc': 0.0001696796878391352, 'vist': 0.00625938173177897, 'enferm': 0.006609163361079506, 'bay': 0.0025388168741703257, 'estrell': 0.0030039756068214766, 'fals': 0.0015739690426106654, 'cuent': 0.007773136495629634, 'luz': 0.0009970679761370752, 'dueñ': 0.0037921556860242727, 'dia': 0.004924734389993247, 'asi': 0.005403837409244998, 'estil': 0.008087919662848888, 'dic': 0.007345606641005343, 'beach': 0.0060194459660520075, 'certific': 0.0020310470050194417, 'peor': 0.007984644488379638, 'lueg': 0.002688390577483513, 'ago': 0.007812250121076712, 'dej': 0.005997099624515701, 'verd': 0.004598276786393037, 'definit': 0.006543736862701271, 'intoler': 0.0067726104799576735, 'corre': 0.006593651929442987, 'desagrad': 0.004072577544783489, 'lament': 0.0015580880169424136, 'reseñ': 0.0017409813147426702, 'quej': 0.006248543934471697, 'preci': 7.10943831860517e-05, 'envi': 0.0030828348611931142, 'men': 0.008059624090274045, 'respond': 0.0064609066915340884, 'agu': 0.0076557471626266015, 'cre': 0.007182586642195259, 'publiqu': 0.008104471956889762, 'dij': 0.00658343562494302, 'escrib': 0.00042296343317155304, 'octubr': 0.003394024303421596, 'menor': 0.0040221418300604335, 'notific': 5.483238178254186e-05, 'advisor': 0.0075756579102293255, 'hoy': 0.0012505639417847623, 'cancel': 0.0004225306995358178}), defaultdict(<function <lambda> at 0x7fe469cb2560>, {'lug': 0.0032397157777924682, 'm': 0.0005881748099627074, 'puebl': 0.003373612387630828, 'pas': 0.001981205321356443, 'famili': 0.002563144304284878, 'instal': 0.003651930444507706, 'activ': 0.0023293395428918753, 'picin': 0.004671883854107584, 'gust': 0.0006655517137410128, 'especial': 0.0015227875877249055, 'minut': 0.0009858557548151296, 'caball': 0.004027909088399294, 'busc': 0.0017535396344703403, 'cabañ': 0.0022176173877227557, 'priv': 0.0024655774900962466, 'limpi': 0.004339718334269372, 'tod': 0.0023717927598967555, 'ambient': 0.0006021260426846604, 'play': 0.0007733612230319975, 'bell': 0.0024304612128811082, 'acuat': 0.0030323897209933496}), defaultdict(<function <lambda> at 0x7fe469cb2ef0>, {'lug': 0.00016282436136639294, 'hotel': 0.00017034773476254727, 'sincer': 0.0001447394525932564, 'sup': 0.0001522805716692433, 'respir': 5.173464856709198e-05, 'atencion': 0.00024306368094884163, 'papas': 9.33112311562889e-05, 'part': 7.639213303925383e-05, 'recom': 0.00012553048530178918, 'paz': 0.00020261085296440683, 'tranquil': 0.00017520260999876632, 'pud': 0.000179439649755737, 'encant': 0.00014282134237945943, 'cabañ': 0.0001069703156172174, 'ver': 5.118946092439335e-06, 'bonit': 0.0002800952804841564, 'amabil': 0.00010750302748189164, 'priv': 0.00025981698182656683, 'viaj': 0.00013704000643885027, 'person': 0.00022374284086369814, 'servici': 0.00034603015379927566, 'ambient': 0.00020644142587863078, 'play': 0.0002806906076423901, 'excelent': 0.00016072985690284707, 'buen': 0.00015970792995503768, 'segur': 0.00018684596506408162, 'agrad': 0.00015130102573097465})]\n"
          ],
          "name": "stdout"
        }
      ]
    },
    {
      "cell_type": "code",
      "metadata": {
        "id": "JYUJTYS9zQPE"
      },
      "source": [
        "# PASO E - 2\n",
        "lambda_B = 0.5\n",
        "Pz_B = lambda_B * theta_B /(lambda_B * theta_B + (1-lambda_B) * denominador)"
      ],
      "execution_count": 27,
      "outputs": []
    },
    {
      "cell_type": "code",
      "metadata": {
        "id": "Se_1f9MH6lt5"
      },
      "source": [
        "V = []\n",
        "for i in range(len(documento)):\n",
        "  V.append(set(documento[i]))"
      ],
      "execution_count": 28,
      "outputs": []
    },
    {
      "cell_type": "code",
      "metadata": {
        "id": "5qwKHL0w1FhM"
      },
      "source": [
        "# PASO M \n",
        "num = []\n",
        "for i in range(len(documento)):\n",
        "  for w in V[i]:\n",
        "    num.append(frec[w]*(1-Pz_B)*Pz_j[i][w])\n",
        "# P^(n+1) (theta_j)\n",
        "Pthetaj = sum(num)/(len(documento)*sum(num)) "
      ],
      "execution_count": 29,
      "outputs": []
    },
    {
      "cell_type": "code",
      "metadata": {
        "id": "ylhkS0g0nalq",
        "colab": {
          "base_uri": "https://localhost:8080/",
          "height": 329
        },
        "outputId": "850771f9-09c8-4fa6-fbc0-8ab5402d3124"
      },
      "source": [
        "palabras_mas_probables(Ptheta_j[3])"
      ],
      "execution_count": 30,
      "outputs": [
        {
          "output_type": "display_data",
          "data": {
            "image/png": "[encoded data removed]",
            "text/plain": [
              "<Figure size 1080x360 with 1 Axes>"
            ]
          },
          "metadata": {
            "tags": [],
            "needs_background": "light"
          }
        }
      ]
    }
  ]
}